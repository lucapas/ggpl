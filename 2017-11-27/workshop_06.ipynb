{
 "cells": [
  {
   "cell_type": "markdown",
   "metadata": {},
   "source": [
    "# Grafo del file .lines"
   ]
  },
  {
   "cell_type": "code",
   "execution_count": null,
   "metadata": {
    "collapsed": true
   },
   "outputs": [],
   "source": [
    "from larlib import *\n",
    "import csv\n",
    "import math\n",
    "\n",
    "def grafo():\n",
    "    with open(\"pianta.lines\", \"rb\") as file:\n",
    "\n",
    "        reader = csv.reader(file, delimiter=\",\")\n",
    "        indice = {}\n",
    "        nodi = []\n",
    "        archi = []\n",
    "        i = 0\n",
    "\n",
    "        for row in reader:\n",
    "            row0 = math.floor(float(row[0]))\n",
    "            row1 = math.floor(float(row[1]))\n",
    "            row2 = math.floor(float(row[2]))\n",
    "            row3 = math.floor(float(row[3]))\n",
    "\n",
    "            if  (row0, row1) not in indice.keys():\n",
    "                indice[(row0, row1)] = i\n",
    "                nodi.append((row0, row1))\n",
    "                i = i + 1\n",
    "\n",
    "            if  (row2, row3) not in indice.keys():\n",
    "                indice[(row2, row3)] = i\n",
    "                nodi.append((row2, row3))\n",
    "                i = i + 1\n",
    "\n",
    "            archi.append((indice[(row0, row1)], (indice[(row2, row3)])))\n",
    "\n",
    "    return (nodi, archi)\n",
    "\n",
    "VIEW(STRUCT(MKPOLS(grafo())))"
   ]
  },
  {
   "cell_type": "markdown",
   "metadata": {},
   "source": [
    "![Cattura2.PNG](image/Cattura2.PNG)"
   ]
  },
  {
   "cell_type": "code",
   "execution_count": null,
   "metadata": {
    "collapsed": true
   },
   "outputs": [],
   "source": []
  }
 ],
 "metadata": {
  "kernelspec": {
   "display_name": "Python 2",
   "language": "python",
   "name": "python2"
  },
  "language_info": {
   "codemirror_mode": {
    "name": "ipython",
    "version": 2
   },
   "file_extension": ".py",
   "mimetype": "text/x-python",
   "name": "python",
   "nbconvert_exporter": "python",
   "pygments_lexer": "ipython2",
   "version": "2.7.13"
  }
 },
 "nbformat": 4,
 "nbformat_minor": 2
}
