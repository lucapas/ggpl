{
 "cells": [
  {
   "cell_type": "code",
   "execution_count": null,
   "metadata": {
    "collapsed": true
   },
   "outputs": [],
   "source": [
    "# global function\n",
    "\n",
    "DEF global (p1::IsType1; p2::IsType2) (q1,q2::IsType3) = Body\n",
    "WHERE\n",
    "local1 = body1,\n",
    "local2 = body2\n",
    "WHERE local21 = body21 END\n",
    "END;\n"
   ]
  },
  {
   "cell_type": "code",
   "execution_count": 1,
   "metadata": {
    "collapsed": true
   },
   "outputs": [],
   "source": [
    "def name(p1,p2):\n",
    "    local1 = body1\n",
    "    local2 = body2\n",
    "    def name1(q1,q2):\n",
    "        local21 = body21\n",
    "        return Body\n",
    "    return name1\n",
    "    "
   ]
  },
  {
   "cell_type": "markdown",
   "metadata": {},
   "source": [
    "# Modelli di Tavolo:"
   ]
  },
  {
   "cell_type": "code",
   "execution_count": null,
   "metadata": {
    "collapsed": true
   },
   "outputs": [],
   "source": [
    "#table model\n",
    "DEF Leg = CUBOID:< 0.1,0.1,0.7 >;\n",
    "DEF Plane = CUBOID:< 1, 1, 0.2>;\n",
    "DEF Table = STRUCT:<\n",
    "Leg, T:1:0.9, Leg, T:2:0.9, Leg, T:1:-0.9, Leg,\n",
    "T:<2,3>:<-0.9,0.7>, Plane >;\n",
    "DEF Table1 = STRUCT:<\n",
    "Leg, T:1:0.9:Leg, T:<1,2>:<0.9,0.9>:Leg, T:2:0.9:Leg,\n",
    "T:3:0.7:Plane >;\n",
    "VRML: Table:'out.wrl';"
   ]
  },
  {
   "cell_type": "code",
   "execution_count": 19,
   "metadata": {},
   "outputs": [
    {
     "data": {
      "text/plain": [
       "<pyplasm.xgepy.Hpc; proxy of <Swig Object of type 'std::shared_ptr< Hpc > *' at 0x0000000011A2D480> >"
      ]
     },
     "execution_count": 19,
     "metadata": {},
     "output_type": "execute_result"
    }
   ],
   "source": [
    "from larlib import *\n",
    "leg= CUBOID([0.1,0.1,0.7])\n",
    "plane= CUBOID([1,1,0.2])\n",
    "table= STRUCT([leg,T(1)(0.9)(leg),T([1,2])([0.9,-0.9])(leg),T(2)(-0.9)(leg),T([2,3])([-0.9,0.7])(plane)])\n",
    "VIEW(table)"
   ]
  },
  {
   "cell_type": "code",
   "execution_count": 20,
   "metadata": {},
   "outputs": [
    {
     "data": {
      "text/plain": [
       "<pyplasm.xgepy.Hpc; proxy of <Swig Object of type 'std::shared_ptr< Hpc > *' at 0x0000000011A2D4E0> >"
      ]
     },
     "execution_count": 20,
     "metadata": {},
     "output_type": "execute_result"
    }
   ],
   "source": [
    "from larlib import *\n",
    "leg= CUBOID([0.1,0.1,0.7])\n",
    "plane= CUBOID([1,1,0.2])\n",
    "table= STRUCT([leg,T(1)(0.9)(leg),T([1,2])([0.9,0.9])(leg),T(2)(0.9)(leg),T(3)(0.7)(plane)])\n",
    "VIEW(table)"
   ]
  },
  {
   "cell_type": "markdown",
   "metadata": {},
   "source": [
    "![Cattura3.PNG](image/Cattura3.PNG)"
   ]
  },
  {
   "cell_type": "markdown",
   "metadata": {},
   "source": [
    "Block:"
   ]
  },
  {
   "cell_type": "code",
   "execution_count": null,
   "metadata": {
    "collapsed": true
   },
   "outputs": [],
   "source": [
    "#Intersection of extrusions operator\n",
    "DEF Q = QUOTE ∼ IF:< IsSeQ, ID, [ID] >\n",
    "DEF plan = STRUCT:< Q:<4,-2,4> * Q:<4,4>, T:<1,2>:<4,1>, Q:2 * Q:<2,4,2> >;\n",
    "DEF section = MKPOL:<<<0,0>,<10,0>,<10,3>,<5,4.5>,<0,3>>,<1..5>,<<1>>>;\n",
    "DEF Block = @2:(plan * Q:<3,3,3>)\n"
   ]
  },
  {
   "cell_type": "code",
   "execution_count": null,
   "metadata": {
    "collapsed": true
   },
   "outputs": [],
   "source": [
    "def Q(x):\n",
    "    if isinstance(x,list): return QUOTE(x)\n",
    "    else : return x\n"
   ]
  },
  {
   "cell_type": "code",
   "execution_count": 15,
   "metadata": {},
   "outputs": [
    {
     "data": {
      "text/plain": [
       "<pyplasm.xgepy.Hpc; proxy of <Swig Object of type 'std::shared_ptr< Hpc > *' at 0x0000000011A2D7B0> >"
      ]
     },
     "execution_count": 15,
     "metadata": {},
     "output_type": "execute_result"
    }
   ],
   "source": [
    "from larlib import *\n",
    "plan = STRUCT([PROD([QUOTE([4,-2,4]),QUOTE([4,4])]), T([1,2])([4,1])(PROD([QUOTE([2]),QUOTE([2,4,2])]))])\n",
    "section = MKPOLS([[[0,0],[10,0],[10,3],[5,4.5],[0,3]],[range(1,5),[1]]])\n",
    "VIEW(SKEL_2(PROD([plan,QUOTE([3,3,3])])))"
   ]
  },
  {
   "cell_type": "code",
   "execution_count": null,
   "metadata": {
    "collapsed": true
   },
   "outputs": [],
   "source": [
    "Cubi:"
   ]
  },
  {
   "cell_type": "code",
   "execution_count": null,
   "metadata": {
    "collapsed": true
   },
   "outputs": [],
   "source": [
    "#Boolean operations between cubes\n",
    "DEF a = T:<1,2>:<-0.5,-0.5>:(CUBOID:<1,1,1>);\n",
    "DEF b = R:<1,2>:(PI/4):a;\n",
    "STRUCT:< a + b, T:1:2, a & b, T:1:2, a ∧ b, T:1:2, a - b >;"
   ]
  },
  {
   "cell_type": "code",
   "execution_count": 5,
   "metadata": {},
   "outputs": [
    {
     "data": {
      "text/plain": [
       "<pyplasm.xgepy.Hpc; proxy of <Swig Object of type 'std::shared_ptr< Hpc > *' at 0x0000000005BED270> >"
      ]
     },
     "execution_count": 5,
     "metadata": {},
     "output_type": "execute_result"
    }
   ],
   "source": [
    "a=T([1,2])([-0.5,-0.5])(CUBOID([1,1,1]))\n",
    "b=R([1,2])(PI/4)(a)\n",
    "VIEW(STRUCT([SUM([a,b]),T(1)(2)(INTERSECTION([a,b])),T(1)(4)(XOR([a,b])),T(1)(6)(DIFFERENCE([a,b]))]))"
   ]
  },
  {
   "cell_type": "markdown",
   "metadata": {},
   "source": [
    "![Cattura.PNG](image/Cattura.PNG)"
   ]
  },
  {
   "cell_type": "code",
   "execution_count": null,
   "metadata": {
    "collapsed": true
   },
   "outputs": [],
   "source": [
    "#Table model\n",
    "DEF legs = Q:< 0.1,-0.8,0.1 > * Q:< 0.1,-0.8,0.1 > * Q:0.7;\n",
    "DEF plane = Q:1 * Q:1 * Q:0.2;\n",
    "DEF table = Legs TOP Plane;\n",
    "DEF chair = S:<1,2,3>:<0.4,0.4,0.5>:Table;\n",
    "DEF assembly = chair RIGHT table RIGHT chair UP chair DOWN chair\n",
    "VRML:assembly:'out.wrl'"
   ]
  },
  {
   "cell_type": "code",
   "execution_count": 17,
   "metadata": {},
   "outputs": [
    {
     "data": {
      "text/plain": [
       "<pyplasm.xgepy.Hpc; proxy of <Swig Object of type 'std::shared_ptr< Hpc > *' at 0x0000000011A2D240> >"
      ]
     },
     "execution_count": 17,
     "metadata": {},
     "output_type": "execute_result"
    }
   ],
   "source": [
    "from larlib import *\n",
    "legs=PROD([PROD([QUOTE([0.1,-0.8,0.1]),QUOTE([0.1,-0.8,0.1])]),QUOTE([0.7])])\n",
    "plane=PROD([PROD([QUOTE([1]),QUOTE([1])]),QUOTE([0.2])])\n",
    "table=TOP([legs,plane])\n",
    "chair=S([1,2,3])([0.4,0.4,0.5])(table)\n",
    "assembly=DOWN([UP([LEFT([RIGHT([table,chair]),chair]),chair]),chair])\n",
    "VIEW(assembly)"
   ]
  },
  {
   "cell_type": "code",
   "execution_count": null,
   "metadata": {
    "collapsed": true
   },
   "outputs": [],
   "source": [
    "#Circle\n",
    "DEF Circle (r::IsReal)(n,m::IsIntPos) = MAP:\n",
    "<S2 * COS ∼ S1, S2 * SIN ∼ S1>:(Intervals:(2*PI):n * Intervals:r:m);\n",
    "    \n",
    "DEF c1 = circle:1:<48,1> ACOLOR rgbacolor:<0,1,0,1>;\n",
    "DEF c2 = circle:0.7:<48,1> ACOLOR rgbacolor:<1,1,1,1>;\n",
    "DEF c3 = circle:0.4:<48,1> ACOLOR rgbacolor:<1,0,0,1>;\n",
    "DEF out = STRUCT:< c1, c2, c3 >;"
   ]
  },
  {
   "cell_type": "markdown",
   "metadata": {},
   "source": [
    "![Cattura2.PNG](image/Cattura2.PNG)"
   ]
  },
  {
   "cell_type": "code",
   "execution_count": 18,
   "metadata": {},
   "outputs": [
    {
     "data": {
      "text/plain": [
       "<pyplasm.xgepy.Hpc; proxy of <Swig Object of type 'std::shared_ptr< Hpc > *' at 0x0000000011A2D990> >"
      ]
     },
     "execution_count": 18,
     "metadata": {},
     "output_type": "execute_result"
    }
   ],
   "source": [
    "from larlib import *\n",
    "c1=COLOR(GREEN)(CIRCLE(1)([48,1]))\n",
    "c2=COLOR(WHITE)(CIRCLE(0.7)([48,1]))\n",
    "c3=COLOR(RED)(CIRCLE(0.4)([48,1]))\n",
    "VIEW(STRUCT([c1,c2,c3]))"
   ]
  },
  {
   "cell_type": "markdown",
   "metadata": {},
   "source": [
    "![Cattura1.PNG](image/Cattura1.PNG)"
   ]
  },
  {
   "cell_type": "code",
   "execution_count": null,
   "metadata": {
    "collapsed": true
   },
   "outputs": [],
   "source": [
    "#Manhattan\n",
    "\n",
    "DEF Manhattan2D = MKPOL:< verts, cells, pols >\n",
    "WHERE\n",
    "verts = < <0,0>,<3,0>,<5,0>,<7,0>,<8,0>,<9.5,1>,<10,1.5>,<0,3>,<3,3>,<5,3>,\n",
    "<7,3>,<8,3>,<9.5,3>,<0,4>,<3,4>,<5,4>,<9.5,4>,<12,4>,<9.5,5>,<10,5>,\n",
    "<12,5>,<0,6>,<3,6>,<5,6>,<0,7>,<3,7>,<5,7>,<9.5,7>,<12,7>,<9.5,8>,\n",
    "<12,8>,<0,9>,<3,9>,<5,9>,<8,9>,<9,9>,<12,9>,<0,10>,<3,10>,<5,10>,\n",
    "<8,10>,<9,10>,<9.5,10>,<10,10>,<12,10>,<6,11>,<7,11>,<0,12>,<3,12>,<9,12>,\n",
    "<9.5,12>,<0,13>,<3,13>,<6,13>,<7,13>,<9,13>,<9.5,13>,<0,14>,<3,14>,<5,14>,\n",
    "<8,14>,<9,14>,<9.5,14>,<10,14>,<12,14>,<0,15>,<3,15>,<5,15>,<8,15>,<0,16>,\n",
    "<6,16>,<7,16>,<9,17>,<9.5,17>,<10,17>,<12,17>,<6,18>,<7,18>,<9,18>,<9.5,18>,\n",
    "<10,18>,<12,18>,<2,19>,<3,19>,<5,19>,<8,19>,<9,19>,<9.5,19>,<10,19>,<12,19>,\n",
    "<5,20>,<12,20>,<7,22>,<10,22>,<9,6>,<12,6>,<9,15>,<9.5,15>,<10,15>,<12,15> >,\n",
    "cells = < <1,2,9,8>,<3,4,11,10>,<5,6,13,12>,<14,15,23,22>, <16,17,19,24>,\n",
    "<7,18,21,20>,<25,26,33,32>,<27,95,28,35,34>,<95,96,29,28>, <30,31,37,36>,\n",
    "<38,39,49,48>,<40,41,47,46>,<41,61,55,47>,<55,61,60,54>, <54,60,40,46>,\n",
    "<42,43,51,50>,<44,45,65,64>,<52,53,59,58>,<56,57,63,62>, <66,67,84,83,70>,\n",
    "<68,69,72,71>,<69,86,78,72>,<78,86,85,77>,<71,77,85,68>, <97,98,74,73>,\n",
    "<99,100,76,75>,<79,80,88,87>,<81,82,90,89>, <91,92,94,93> >,\n",
    "pols = AA:LIST:(1..29)\n",
    "END;"
   ]
  },
  {
   "cell_type": "code",
   "execution_count": 24,
   "metadata": {},
   "outputs": [
    {
     "data": {
      "text/plain": [
       "<pyplasm.xgepy.Hpc; proxy of <Swig Object of type 'std::shared_ptr< Hpc > *' at 0x0000000011807F60> >"
      ]
     },
     "execution_count": 24,
     "metadata": {},
     "output_type": "execute_result"
    }
   ],
   "source": [
    "from pyplasm import *\n",
    "from larlib import *\n",
    "\n",
    "def Manhattan2D():\n",
    "    verts = [[0,0],[3,0],[5,0],[7,0],[8,0],[9.5,1],[10,1.5],[0,3],[3,3],[5,3],\n",
    "        [7,3],[8,3],[9.5,3],[0,4],[3,4],[5,4],[9.5,4],[12,4],[9.5,5],[10,5],\n",
    "        [12,5],[0,6],[3,6],[5,6],[0,7],[3,7],[5,7],[9.5,7],[12,7],[9.5,8],\n",
    "        [12,8],[0,9],[3,9],[5,9],[8,9],[9,9],[12,9],[0,10],[3,10],[5,10],\n",
    "        [8,10],[9,10],[9.5,10],[10,10],[12,10],[6,11],[7,11],[0,12],[3,12],[9,12],\n",
    "        [9.5,12],[0,13],[3,13],[6,13],[7,13],[9,13],[9.5,13],[0,14],[3,14],[5,14],\n",
    "        [8,14],[9,14],[9.5,14],[10,14],[12,14],[0,15],[3,15],[5,15],[8,15],[0,16],\n",
    "        [6,16],[7,16],[9,17],[9.5,17],[10,17],[12,17],[6,18],[7,18],[9,18],[9.5,18],\n",
    "        [10,18],[12,18],[2,19],[3,19],[5,19],[8,19],[9,19],[9.5,19],[10,19],[12,19],\n",
    "        [5,20],[12,20],[7,22],[10,22],[9,6],[12,6],[9,15],[9.5,15],[10,15],[12,15]]\n",
    "    \n",
    "    cells = [[1,2,9,8],[3,4,11,10],[5,6,13,12],[14,15,23,22], [16,17,19,24],\n",
    "         [7,18,21,20],[25,26,33,32],[27,95,28,35,34],[95,96,29,28], [30,31,37,36],\n",
    "        [38,39,49,48],[40,41,47,46],[41,61,55,47],[55,61,60,54], [54,60,40,46],\n",
    "        [42,43,51,50],[44,45,65,64],[52,53,59,58],[56,57,63,62], [66,67,84,83,70],\n",
    "        [68,69,72,71],[69,86,78,72],[78,86,85,77],[71,77,85,68], [97,98,74,73],\n",
    "        [99,100,76,75],[79,80,88,87],[81,82,90,89], [91,92,94,93]]\n",
    "    \n",
    "    pols = range(1, 29)\n",
    "    return MKPOL([verts, cells, AA(LIST)(pols)])\n",
    "\n",
    "VIEW(Manhattan2D())"
   ]
  },
  {
   "cell_type": "markdown",
   "metadata": {},
   "source": [
    "![Cattura4.PNG](image/Cattura4.PNG)"
   ]
  },
  {
   "cell_type": "code",
   "execution_count": null,
   "metadata": {
    "collapsed": true
   },
   "outputs": [],
   "source": [
    "#Manhattan 3D\n",
    "DEF MultExtrude (p::IsPol) (h::IsSeqOf:IsReal) =\n",
    "    STRUCT ∼ AA:* ∼ TRANS):< ThePolSeq, AA:Q:h >\n",
    "WHERE\n",
    "    ThePolSeq = (REVERSE ∼ AA:MKPOL ∼ AA:CAT ∼ DISTR):\n",
    "    < DISTL:< MyVerts, MyCells >, <<<1>>> >,\n",
    "    MyVerts = (S1 ∼ UKPOL):P,\n",
    "    MyCells = (AA:LIST ∼ S2 ∼ UKPOL):P\n",
    "END;\n",
    "DEF GrowingH = 1..29;\n",
    "DEF ManhattanH = <1,3,1,11,1,0.2,1,0.1,1,8,15,1,1,1,1,8,1,15,8,1,2,2,2,2,5,9,1,1,1>;"
   ]
  },
  {
   "cell_type": "code",
   "execution_count": 25,
   "metadata": {},
   "outputs": [
    {
     "data": {
      "text/plain": [
       "<pyplasm.xgepy.Hpc; proxy of <Swig Object of type 'std::shared_ptr< Hpc > *' at 0x0000000011A15600> >"
      ]
     },
     "execution_count": 25,
     "metadata": {},
     "output_type": "execute_result"
    }
   ],
   "source": [
    "from larlib import *\n",
    "\n",
    "def MultExtrude(p, h):\n",
    "    MyVerts = COMP([S1, UKPOL])(p)\n",
    "    MyCells = COMP([AA(LIST), S2, UKPOL])(p)\n",
    "    ThePolSeq = COMP([REVERSE, AA(MKPOL), AA(CAT), DISTR])([DISTL([MyVerts, MyCells]),[[[1]]]])   \n",
    "    return COMP([STRUCT, AA(PROD), TRANS])([ThePolSeq, AA(Q)(h)])\n",
    "\n",
    "def GrowingH():\n",
    "    return range(1, 29)\n",
    "\n",
    "def Manhattan():\n",
    "    return [1,3,1,11,1,0.2,1,0.1,1,8,15,1,1,1,1,8,1,15,8,1,2,2,2,2,5,9,1,1,1]\n",
    "\n",
    "a = (MultExtrude(Manhattan2D(), GrowingH()))\n",
    "b = (MultExtrude(Manhattan2D(), Manhattan()))\n",
    "\n",
    "VIEW(a)\n",
    "VIEW(b)"
   ]
  },
  {
   "cell_type": "markdown",
   "metadata": {},
   "source": [
    "![Cattura5.PNG](image/Cattura5.PNG)"
   ]
  },
  {
   "cell_type": "markdown",
   "metadata": {},
   "source": [
    "![Cattura6.PNG](image/Cattura6.PNG)"
   ]
  },
  {
   "cell_type": "code",
   "execution_count": null,
   "metadata": {
    "collapsed": true
   },
   "outputs": [],
   "source": []
  }
 ],
 "metadata": {
  "kernelspec": {
   "display_name": "Python 2",
   "language": "python",
   "name": "python2"
  },
  "language_info": {
   "codemirror_mode": {
    "name": "ipython",
    "version": 2
   },
   "file_extension": ".py",
   "mimetype": "text/x-python",
   "name": "python",
   "nbconvert_exporter": "python",
   "pygments_lexer": "ipython2",
   "version": "2.7.13"
  }
 },
 "nbformat": 4,
 "nbformat_minor": 2
}
