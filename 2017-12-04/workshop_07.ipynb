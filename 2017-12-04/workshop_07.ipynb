{
 "cells": [
  {
   "cell_type": "markdown",
   "metadata": {
    "collapsed": true
   },
   "source": [
    "# Santo Stefano Rotondo"
   ]
  },
  {
   "cell_type": "code",
   "execution_count": null,
   "metadata": {
    "collapsed": true
   },
   "outputs": [],
   "source": [
    "%*************************************************************%\n",
    "%---Misure di riferimento--(cubito = 0.462 m)-----------------%\n",
    "%*************************************************************%\n",
    "\n",
    "%-- 1 cubito = 444 mm ----------------------------------------%\n",
    "DEF r0 = 24; %---cubiti; raggio interno del muro interno------%\n",
    "DEF r2 = 48; %---cubiti; raggio esterno del muro medio--------%\n",
    "DEF r3 = 72; %---cubiti; raggio esterno del muro esterno------%\n",
    "DEF r4 = 88; %---cubiti; raggio esterno scale esterne---------%\n",
    "\n",
    "DEF wsteps = 10;  %---cubiti; profondita' scale esterne-------%\n",
    "DEF nsteps = 10;  %---numero alzate/pedate scale esterne------%\n",
    "DEF wstep = wsteps/nsteps; %---cubiti; larghezza pedata-------%\n",
    "DEF hstep = 1/3; %---cubiti; altezza alzata-------------------%\n",
    "DEF hw4 = 29; %--cubiti; altezza all'imposta del muro esterno-%\n",
    "DEF hbasament = hstep*nsteps;"
   ]
  },
  {
   "cell_type": "code",
   "execution_count": 11,
   "metadata": {
    "collapsed": true
   },
   "outputs": [],
   "source": [
    "r0 = 24.0\n",
    "r2 = 48.0\n",
    "r3 = 72.0\n",
    "r4 = 88.0\n",
    "wsteps = 10.0\n",
    "nsteps = 10.0\n",
    "wstep = wsteps/nsteps\n",
    "hstep = 1.0/3.0\n",
    "hw4 = 29.0\n",
    "hbasament = hstep*nsteps"
   ]
  },
  {
   "cell_type": "code",
   "execution_count": null,
   "metadata": {
    "collapsed": true
   },
   "outputs": [],
   "source": [
    "%-------------------------------------------------------------%\n",
    "%---Mappa cilindrica------------------------------------------%\n",
    "%-------------------------------------------------------------%\n",
    "\n",
    "DEF cylMap = MAP:[S2 * sin ~ S1, S2 * cos ~ S1, S3];\n",
    "\n",
    "%-------------------------------------------------------------%\n",
    "%---Scala esterna---------------------------------------------%\n",
    "%-------------------------------------------------------------%\n",
    "\n",
    "DEF vdom (h::IsRealPos) = ((EMBED:1 ~ Intervals:(PI*3/24)):3) * QUOTE:<h>;\n",
    "DEF hdom (w::IsRealPos) = (S:2:-1 ~ EMBED:1):(Intervals:(PI*3/24):3 * QUOTE:<w>);\n",
    "\n",
    "DEF steps (w,h::IsRealPos) (n::IsIntPos) = (STRUCT ~ CAT ~ #:n):\n",
    "  < vdom:h, T:3:h, hdom:w, T:2:(-:w) >;\n",
    "\n",
    "DEF hbasament = hstep*nsteps;\n",
    "DEF stair = (MKPOL ~ UKPOL):(steps:<wstep,hstep>:nsteps  \n",
    "              RIGHT (S:2:-1 ~ @2 ~ CUBOID):<PI/24,wsteps,hbasament>);\n",
    "DEF ramp  = cylMap:(T:2:r4:stair);\n",
    "DEF stairs = (STRUCT ~ ##:12):<ramp, R:<1,2>:(PI/6)>;"
   ]
  },
  {
   "cell_type": "code",
   "execution_count": 7,
   "metadata": {},
   "outputs": [
    {
     "data": {
      "text/plain": [
       "<pyplasm.xgepy.Hpc; proxy of <Swig Object of type 'std::shared_ptr< Hpc > *' at 0x0000000011BCC840> >"
      ]
     },
     "execution_count": 7,
     "metadata": {},
     "output_type": "execute_result"
    }
   ],
   "source": [
    "from larlib import *\n",
    "\n",
    "#Mappa cilindrica\n",
    "def cylMap():\n",
    "    x= lambda k: k[1]*COS(k[0])\n",
    "    y= lambda k: k[1]*SIN(k[0])\n",
    "    z= lambda k: k[2]\n",
    "    return MAP([x,y,z])\n",
    "\n",
    "\n",
    "def vdom(h):\n",
    "    return PROD([COMP([EMBED(1),INTERVALS(PI*3/24)])(3),QUOTE([h])])\n",
    "\n",
    "def hdom(w):\n",
    "    return COMP([S(2)(-1), EMBED(1)])(PROD([INTERVALS(PI*3/24)(3), QUOTE([w])]))\n",
    "\n",
    "def steps(w, h):\n",
    "    def steps1(n):\n",
    "        return COMP([STRUCT, CAT, N(n)])([vdom(h), T(3)(h), hdom(w), T(2)(-w)])\n",
    "    return steps1\n",
    "\n",
    "hbasament = hstep * nsteps\n",
    "\n",
    "stair = RIGHT([COMP([MKPOL, UKPOL])(steps(wstep, hstep)(nsteps)),COMP([S(2)(-1), SKEL_2, CUBOID])([PI/24, wsteps, hbasament])])\n",
    "\n",
    "ramp = cylMap()(T(2)(r4)(stair))\n",
    "stairs = STRUCT(NN(12)([ramp, R([1, 2])(PI/6)]))\n",
    "\n",
    "VIEW(stairs)\n",
    "\n",
    "                           "
   ]
  },
  {
   "cell_type": "code",
   "execution_count": 73,
   "metadata": {},
   "outputs": [
    {
     "data": {
      "text/plain": [
       "<pyplasm.xgepy.Hpc; proxy of <Swig Object of type 'std::shared_ptr< Hpc > *' at 0x0000000011D11B70> >"
      ]
     },
     "execution_count": 73,
     "metadata": {},
     "output_type": "execute_result"
    }
   ],
   "source": [
    "%-------------------------------------------------------------%\n",
    "%---Basamento-------------------------------------------------%\n",
    "%-------------------------------------------------------------%\n",
    "DEF basisSector = (cylMap ~ EMBED:1):\n",
    "    (Intervals:(2*PI/12):4 * Intervals:(r4 - (wstep*(nsteps - 1))):1);\n",
    "DEF basis = (STRUCT ~ ##:12):<basisSector, R:<1,2>:(2*PI/12)>;\n",
    "DEF basement = (R:<1,2>:(PI/-48) ~ STRUCT):< stairs, T:3:(hstep*nsteps), basis >;\n"
   ]
  },
  {
   "cell_type": "code",
   "execution_count": 9,
   "metadata": {},
   "outputs": [
    {
     "data": {
      "text/plain": [
       "<pyplasm.xgepy.Hpc; proxy of <Swig Object of type 'std::shared_ptr< Hpc > *' at 0x0000000011C62150> >"
      ]
     },
     "execution_count": 9,
     "metadata": {},
     "output_type": "execute_result"
    }
   ],
   "source": [
    "basisSector = COMP([cylMap(), EMBED(1)])(PROD([INTERVALS(2*PI/12)(4),INTERVALS(r4-(wstep*(nsteps-1)))(1)]))\n",
    "basis = COMP([STRUCT,NN(12)])([basisSector,R([1, 2])(2*PI/12)])\n",
    "basement = COMP([R([1,2])(PI/-48),STRUCT])([stairs, T(3)(hstep*nsteps),basis])\n",
    "VIEW(basement)"
   ]
  },
  {
   "cell_type": "code",
   "execution_count": 75,
   "metadata": {},
   "outputs": [
    {
     "data": {
      "text/plain": [
       "<pyplasm.xgepy.Hpc; proxy of <Swig Object of type 'std::shared_ptr< Hpc > *' at 0x0000000011DB96F0> >"
      ]
     },
     "execution_count": 75,
     "metadata": {},
     "output_type": "execute_result"
    }
   ],
   "source": [
    "%-------------------------------------------------------------%\n",
    "%---Muro esterno----------------------------------------------%\n",
    "%-------------------------------------------------------------%\n",
    "\n",
    "DEF ExtWall2Da = MKPOL:<<<0,0>,<7,0>,<7,5>,<0,8>,<7,3>,<9,4>,\n",
    "<10.5,1.5>,<10.5,0>,<11,1.5>,<11,3>>,<1..4,<2,8,7,6,5>,<6,7,9,10>>,\n",
    "<<1>,<2>,<3>>> & ((Q ~ #:12):1 * Q:8);\n",
    "DEF ExtWall2Db = MKPOL:<<<0.5,0>,<4,0>,<5,0>,<6,0>,<6,3>,<5.5,3.5>,\n",
    "  <5,3>,<4.5,3.5>,<4,3>,<2,4>,<0,3>,<0,1.5>,<0.5,1.5>>,\n",
    "  <<10,11,12,13>,<1,2,9,10,13>,<2,3,7,8,9>,<3,4,5,6,7>>,<1..4>> \n",
    "&  ((Q ~ #:6):1 * Q:4);\n",
    "DEF ExtWall2D = STRUCT:<ExtWall2Da, T:1:11, ExtWall2Db>;\n",
    "DEF sizxExtWall = SIZE:1:ExtWall2D;\n",
    "\n",
    "DEF ExtWall = R:<2,3>:(PI/2):(ExtWall2D * QUOTE:<1.5>);\n",
    "DEF CurvedExtWall = (cylMap ~ T:2:r3 ~ S:<1,3>:<PI/(4*sizxExtWall),hw4/8>):   ExtWall;\n",
    "DEF DoubleExtWall = STRUCT:<CurvedExtWall, S:1:-1, CurvedExtWall>;\n",
    "DEF FullExtWall = (STRUCT ~ ##:4):<DoubleExtWall, R:<1,2>:(PI/2)>;\n",
    "\n",
    "%\n",
    "STRUCT:<basement, T:3:hbasament, FullExtWall>;\n",
    "%\n"
   ]
  },
  {
   "cell_type": "code",
   "execution_count": 17,
   "metadata": {},
   "outputs": [
    {
     "data": {
      "text/plain": [
       "<pyplasm.xgepy.Hpc; proxy of <Swig Object of type 'std::shared_ptr< Hpc > *' at 0x0000000011C540F0> >"
      ]
     },
     "execution_count": 17,
     "metadata": {},
     "output_type": "execute_result"
    }
   ],
   "source": [
    "ExtWall2Da = INTERSECTION([MKPOL([[[0,0],[7,0],[7,5],[0,8],[7,3],[9,4],[10.5,1.5],[10.5,0],[11,1.5],[11,3]],\n",
    "                                  [range(1,5),[2,8,7,6,5], [6,7,9,10]],[[1],[2],[3]]]),\n",
    "                           PROD([COMP([QUOTE,N(12)])(1),Q(8)])])\n",
    "\n",
    "ExtWall2Db = INTERSECTION([MKPOL([[[0.5,0],[4,0],[5,0],[6,0],[6,3],[5.5,3.5],[5,3],[4.5,3.5],[4,3],[2,4],[0,3],[0,1.5],[0.5,1.5]],[[10,11,12,13],[1,2,9,10,13],[2,3,7,8,9],[3,4,5,6,7]],\n",
    "                                  range(1,5)]),\n",
    "                           PROD([COMP([QUOTE, N(6)])(1), Q(4)])])\n",
    "\n",
    "ExtWall2D = STRUCT([ExtWall2Da, T(1)(11), ExtWall2Db])\n",
    "\n",
    "sizxExtWall = SIZE(1)(ExtWall2D)\n",
    "\n",
    "ExtWall = R([2, 3])(PI/2)(PROD([ExtWall2D, QUOTE([1.5])]))\n",
    "\n",
    "CurvedExtWall = COMP([cylMap, T(2)(r3), S([1, 3])([PI/(4*sizxExtWall), hw4/8])])(ExtWall)\n",
    "\n",
    "DoubleExtWall = STRUCT([CurvedExtWall, S(1)(-1), CurvedExtWall])\n",
    "\n",
    "FullExtWall = COMP([STRUCT, NN(4)])([DoubleExtWall, R([1, 2])(PI/2)])\n",
    "VIEW(STRUCT([basement,T(3)(hbasament),FullExtWall]))"
   ]
  },
  {
   "cell_type": "code",
   "execution_count": null,
   "metadata": {
    "collapsed": true
   },
   "outputs": [],
   "source": [
    "%-------------------------------------------------------------%\n",
    "%---Colonne intermedie----------------------------------------%\n",
    "%-------------------------------------------------------------%\n",
    "\n",
    "DEF Column (w,h::IsRealPos) = basis TOP trunk TOP capitel\n",
    "WHERE\n",
    "  basis = CUBOID:<w,w,2*w/3>,\n",
    "  trunk = CYLINDER:<w/2*0.85, h - w>:8,\n",
    "  capitel = CUBOID:<w,w,w/3>\n",
    "END;\n",
    "DEF arcAngle = 2*PI/50.4;\n",
    "DEF wallAngle = -3.2*arcAngle/4;\n",
    "DEF RotCross = 3.2*arcAngle/4 + 2.5*arcAngle;\n",
    "\n",
    "DEF MyColumn = (MKPOL ~ UKPOL ~ T:2:((r2 - 0.75)) ~ Column):<1.5,hCol>;\n",
    "DEF The4cols = (R:<1,2>:(arcAngle*0.4/3.2) ~ MKPOL ~ UKPOL ~ \n",
    "  STRUCT ~ ##:4):< R:<1,2>:(-:arcAngle), MyColumn >;\n",
    "DEF The5cols = (R:<1,2>:(arcAngle*0.4/3.2) ~ MKPOL ~ UKPOL ~ \n",
    "  STRUCT ~ ##:5):< R:<1,2>:(-:arcAngle), MyColumn >;\n",
    "DEF TheBotWal = (cylMap ~ MKPOL ~ UKPOL ~ T:2:(r2 - 0.75) ~ CUBOID):\n",
    "  < 3.2*arcAngle/4, 1.5, hCol >;\n",
    "DEF TheSecCols = STRUCT:< R:<1,2>:RotCross,\n",
    "  TheBotWal, R:<1,2>:wallAngle, \n",
    "  The4cols, R:<1,2>:(-5*arcAngle), \n",
    "  TheBotWal, R:<1,2>:wallAngle, \n",
    "  The5cols >;\n",
    "DEF TheMedColumns = (STRUCT ~ ##:4):<TheSecCols, R:<1,2>:(PI/-2)>;\n",
    "DEF hCol = 12 ;\n",
    "%\n",
    "STRUCT:<basement, T:3:hbasament, FullExtWall, TheMedColumns >;\n",
    "%"
   ]
  },
  {
   "cell_type": "code",
   "execution_count": 18,
   "metadata": {},
   "outputs": [
    {
     "data": {
      "text/plain": [
       "<pyplasm.xgepy.Hpc; proxy of <Swig Object of type 'std::shared_ptr< Hpc > *' at 0x0000000011C656F0> >"
      ]
     },
     "execution_count": 18,
     "metadata": {},
     "output_type": "execute_result"
    }
   ],
   "source": [
    "def Column(args):\n",
    "    w, h = args\n",
    "    basis = CUBOID([w, w, 2.0*w/3])\n",
    "    trunk = CYLINDER([w/2.0*.85, h-w])(8)\n",
    "    capitel = CUBOID([w, w, w/3.0])\n",
    "    return TOP([TOP([basis, trunk]), capitel])\n",
    "\n",
    "\n",
    "arcAngle = 2*PI/50.4\n",
    "wallAngle = -3.2*arcAngle/4\n",
    "RotCross = 3.2*arcAngle/4 + 2.5*arcAngle\n",
    "hCol = 12.0\n",
    "\n",
    "MyColumn=COMP([MKPOL,UKPOL,T(2)(r2-.75),Column])([1.5,hCol])\n",
    "\n",
    "The4cols=COMP([R([1,2])(arcAngle*.4/3.2),MKPOL,UKPOL,STRUCT,NN(4)])([R([1,2])(-arcAngle),MyColumn])\n",
    "\n",
    "The5Cols=COMP([R([1,2])(arcAngle*.4/3.2),MKPOL,UKPOL,STRUCT,NN(5)])([R([1,2])(-arcAngle),MyColumn])\n",
    "\n",
    "TheBotWal=COMP([cylMap,MKPOL,UKPOL,T(2)(r2-.75),CUBOID])([3.2*arcAngle/4.0, 1.5,hCol])\n",
    "\n",
    "TheSecCols=STRUCT([R([1,2])(RotCross),TheBotWal,R([1, 2])(wallAngle),The4cols,R([1,2])(-5.0*arcAngle),TheBotWal,R([1,2])(wallAngle),The5Cols])\n",
    "\n",
    "TheMedColumns=COMP([STRUCT,NN(4)])([TheSecCols,R([1,2])(PI/-2.0)])\n",
    "VIEW(STRUCT([basement,(T)(3)(hbasament),FullExtWall,TheMedColumns]))\n"
   ]
  },
  {
   "cell_type": "code",
   "execution_count": null,
   "metadata": {
    "collapsed": true
   },
   "outputs": [],
   "source": []
  }
 ],
 "metadata": {
  "kernelspec": {
   "display_name": "Python 2",
   "language": "python",
   "name": "python2"
  },
  "language_info": {
   "codemirror_mode": {
    "name": "ipython",
    "version": 2
   },
   "file_extension": ".py",
   "mimetype": "text/x-python",
   "name": "python",
   "nbconvert_exporter": "python",
   "pygments_lexer": "ipython2",
   "version": "2.7.13"
  }
 },
 "nbformat": 4,
 "nbformat_minor": 2
}
