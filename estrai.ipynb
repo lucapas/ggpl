{
  "nbformat": 4,
  "nbformat_minor": 0,
  "metadata": {
    "colab": {
      "name": "estrai.ipynb",
      "version": "0.3.2",
      "provenance": [],
      "collapsed_sections": [],
      "include_colab_link": true
    },
    "kernelspec": {
      "display_name": "Python 3",
      "language": "python",
      "name": "python3"
    }
  },
  "cells": [
    {
      "cell_type": "markdown",
      "metadata": {
        "id": "view-in-github",
        "colab_type": "text"
      },
      "source": [
        "<a href=\"https://colab.research.google.com/github/lucapas/ggpl/blob/master/estrai.ipynb\" target=\"_parent\"><img src=\"https://colab.research.google.com/assets/colab-badge.svg\" alt=\"Open In Colab\"/></a>"
      ]
    },
    {
      "metadata": {
        "id": "t6IArUfoFMyt",
        "colab_type": "code",
        "colab": {
          "base_uri": "https://localhost:8080/",
          "height": 204
        },
        "outputId": "846ce1bc-47a5-4a62-c846-2c8d980001df"
      },
      "cell_type": "code",
      "source": [
        "!pip install selenium\n",
        "!apt install chromium-chromedriver\n",
        "!cp /usr/lib/chromium-browser/chromedriver /usr/bin"
      ],
      "execution_count": 1,
      "outputs": [
        {
          "output_type": "stream",
          "text": [
            "Requirement already satisfied: selenium in /usr/local/lib/python3.6/dist-packages (3.141.0)\n",
            "Requirement already satisfied: urllib3 in /usr/local/lib/python3.6/dist-packages (from selenium) (1.22)\n",
            "Reading package lists... Done\n",
            "Building dependency tree       \n",
            "Reading state information... Done\n",
            "chromium-chromedriver is already the newest version (73.0.3683.75-0ubuntu0.18.04.1).\n",
            "The following package was automatically installed and is no longer required:\n",
            "  libnvidia-common-410\n",
            "Use 'apt autoremove' to remove it.\n",
            "0 upgraded, 0 newly installed, 0 to remove and 6 not upgraded.\n",
            "cp: '/usr/lib/chromium-browser/chromedriver' and '/usr/bin/chromedriver' are the same file\n"
          ],
          "name": "stdout"
        }
      ]
    },
    {
      "metadata": {
        "id": "IqXG0Q5sCz9W",
        "colab_type": "code",
        "outputId": "ccf6c374-299c-4190-ff7e-71010d448ebd",
        "colab": {
          "base_uri": "https://localhost:8080/",
          "height": 493
        }
      },
      "cell_type": "code",
      "source": [
        "from selenium import webdriver\n",
        "\n",
        "from bs4 import BeautifulSoup\n",
        "class Xpath_Util:\n",
        "    \"Class to generate the xpaths\"\n",
        " \n",
        "    def __init__(self):\n",
        "        self.elements = None\n",
        "        self.guessable_elements = ['input','button']\n",
        "        self.known_attribute_list = ['id','name','placeholder','value','title','type','class']\n",
        "        self.allxpathlist=[]\n",
        " \n",
        "    def generate_xpath(self,soup):\n",
        "        \"generate the xpath\"  \n",
        "        result_flag = False\n",
        "        \n",
        "        for guessable_element in self.guessable_elements:\n",
        "          try:\n",
        "            self.elements = soup.find_all(guessable_element)                                \n",
        "            for element in self.elements:                                   \n",
        "                if (not element.has_attr(\"type\")) or (element.has_attr(\"type\") and element['type'] != \"hidden\"):\n",
        "                    for attr in self.known_attribute_list:                                                      \n",
        "                        if element.has_attr(attr):                                                             \n",
        "                            locator = self.guess_xpath(guessable_element,attr,element)                               \n",
        "                            if len(driver.find_elements_by_xpath(locator))==1:\n",
        "                                result_flag = True                                   \n",
        "                                print(locator.encode('utf-8'))\n",
        "                                break\n",
        "                        elif guessable_element == 'button' and element.getText():                                                                  \n",
        "                            button_text = element.getText()\n",
        "                            if element.getText() == button_text.strip():\n",
        "                                locator = xpath_obj.guess_xpath_button(guessable_element,\"text()\",element.getText())\n",
        "                            else:\n",
        "                                locator = xpath_obj.guess_xpath_using_contains(guessable_element,\"text()\",button_text.strip())\n",
        "                            if len(driver.find_elements_by_xpath(locator))==1:\n",
        "                                result_flag = True                                   \n",
        "                                print(locator.encode('utf-8'))\n",
        "                                break        \n",
        "          except:\n",
        "            print(\"Exception when trying to generate xpath for:%s\"%guessable_element)\n",
        "            print(\"Python says:%s\")  \n",
        "            continue\n",
        " \n",
        "        return result_flag\n",
        " \n",
        "    def guess_xpath(self,tag,attr,element):\n",
        "        \"Guess the xpath based on the tag,attr,element[attr]\"\n",
        "        #Class attribute returned as a unicodeded list, so removing 'u from the list and joining back\n",
        "        if type(element[attr]) is list:\n",
        "            element[attr] = [i.encode('utf-8') for i in element[attr]]\n",
        "            element[attr] = ' '.join(element[attr])                             \n",
        "        self.xpath = \"//%s[@%s='%s']\"%(tag,attr,element[attr])\n",
        "        self.allxpathlist.append(self.xpath)\n",
        "        return  self.xpath            \n",
        " \n",
        "    def guess_xpath_button(self,tag,attr,element):\n",
        "        \"Guess the xpath for button tag\"\n",
        "        self.button_xpath = \"//%s[%s='%s']\"%(tag,attr,element)\n",
        "        self.allxpathlist.append(self.button_xpath)\n",
        "        return  self.button_xpath\n",
        " \n",
        "    def guess_xpath_using_contains(self,tag,attr,element):\n",
        "        \"Guess the xpath using contains function\"\n",
        "        self.button_contains_xpath = \"//%s[contains(%s,'%s')]\"%(tag,attr,element)\n",
        "        self.allxpathlist.append(self.button_contains_xpath)\n",
        "        return self.button_contains_xpath\n",
        " \n",
        " \n",
        "#-------START OF SCRIPT--------\n",
        "if __name__ == \"__main__\":\n",
        "\n",
        "    #Initialize the xpath object\n",
        "    xpath_obj = Xpath_Util()\n",
        " \n",
        " \n",
        "    #Create a chrome session\n",
        "    chrome_options = webdriver.ChromeOptions()\n",
        "    chrome_options.add_argument('--headless')\n",
        "    chrome_options.add_argument('--no-sandbox')\n",
        "    chrome_options.add_argument('--disable-dev-shm-usage')\n",
        "    driver = webdriver.Chrome('chromedriver',chrome_options=chrome_options)\n",
        "    driver.get(\"https://www.amazon.it/dp/B0792HCFTG/ref=GW_IT_desk_h1_AuCC_Dn_SD19?pf_rd_p=d979e349-5056-44dc-a208-3a984331c005&pf_rd_r=5V6CXT53Q6NBMFDTDQJJ\")\n",
        "  \n",
        " \n",
        "    #Parsing the HTML page with BeautifulSoup\n",
        "    page = driver.execute_script(\"return document.body.innerHTML\").encode('utf-8') #returns the inner HTML as a string\n",
        "    soup = BeautifulSoup(page, 'html.parser')\n",
        "\n",
        " \n",
        "    #execute generate_xpath\n",
        "    if xpath_obj.generate_xpath(soup) is False:\n",
        "        print(\"No XPaths generated for the URL:%s\"%url)\n",
        " \n",
        "    driver.quit()"
      ],
      "execution_count": 33,
      "outputs": [
        {
          "output_type": "stream",
          "text": [
            "/usr/local/lib/python3.6/dist-packages/ipykernel_launcher.py:81: DeprecationWarning: use options instead of chrome_options\n"
          ],
          "name": "stderr"
        },
        {
          "output_type": "stream",
          "text": [
            "b\"//input[@value='VAI']\"\n",
            "b\"//input[@id='twotabsearchtextbox']\"\n",
            "b\"//input[@id='add-to-cart-button']\"\n",
            "b\"//input[@id='buy-now-button']\"\n",
            "b\"//input[@id='gift-wrap']\"\n",
            "b\"//input[@id='abb-option-offerId-B01MZEEFBA']\"\n",
            "Exception when trying to generate xpath for:input\n",
            "Python says:%s\n",
            "b\"//button[@title='Play Video']\"\n",
            "b\"//button[@title='Play']\"\n",
            "b\"//button[@title='Mute']\"\n",
            "b\"//button[@title='Playback Rate']\"\n",
            "b\"//button[@title='Chapters']\"\n",
            "b\"//button[@title='Descriptions']\"\n",
            "b\"//button[@title='Subtitles']\"\n",
            "b\"//button[@title='Audio Track']\"\n",
            "b\"//button[@title='Fullscreen']\"\n",
            "b\"//button[@title='restore all settings to the default values']\"\n",
            "b\"//button[text()='Done']\"\n",
            "b\"//button[@title='Close Modal Dialog']\"\n",
            "b\"//button[@id='a-autoid-22-announce']\"\n",
            "b\"//button[@id='a-autoid-23-announce']\"\n",
            "b\"//button[@id='a-autoid-24-announce']\"\n",
            "b\"//button[@id='a-autoid-25-announce']\"\n",
            "b\"//button[@id='a-autoid-26-announce']\"\n",
            "b\"//button[@id='a-autoid-27-announce']\"\n",
            "b\"//button[@id='ods-back-to-top-btn-announce']\"\n"
          ],
          "name": "stdout"
        }
      ]
    },
    {
      "metadata": {
        "id": "C8ql9gnuJEXf",
        "colab_type": "code",
        "colab": {
          "base_uri": "https://localhost:8080/",
          "height": 105
        },
        "outputId": "58371787-d3fb-4753-cc38-18dcb5fe1ebd"
      },
      "cell_type": "code",
      "source": [
        "url=\"https://www.amazon.it/dp/B0792HCFTG/ref=GW_IT_desk_h1_AuCC_Dn_SD19?pf_rd_p=d979e349-5056-44dc-a208-3a984331c005&pf_rd_r=0HY6QQ8ZCFKN0M1GSEC1\"\n",
        "xpath=get_xpath(url)"
      ],
      "execution_count": 16,
      "outputs": [
        {
          "output_type": "stream",
          "text": [
            "/usr/local/lib/python3.6/dist-packages/ipykernel_launcher.py:79: DeprecationWarning: use options instead of chrome_options\n"
          ],
          "name": "stderr"
        },
        {
          "output_type": "stream",
          "text": [
            "Exception when trying to generate xpath for:input\n",
            "Python says:HTTPConnectionPool(host='127.0.0.1', port=55663): Max retries exceeded with url: /session/7237e9e091c5f12dc8e6e8d4c9861534/elements (Caused by NewConnectionError('<urllib3.connection.HTTPConnection object at 0x7f26ec50ca90>: Failed to establish a new connection: [Errno 111] Connection refused',))\n",
            "No XPaths generated for the URL:https://www.amazon.it/dp/B0792HCFTG/ref=GW_IT_desk_h1_AuCC_Dn_SD19?pf_rd_p=d979e349-5056-44dc-a208-3a984331c005&pf_rd_r=0HY6QQ8ZCFKN0M1GSEC1\n"
          ],
          "name": "stdout"
        }
      ]
    },
    {
      "metadata": {
        "id": "I4EsemYTYw0r",
        "colab_type": "code",
        "colab": {
          "base_uri": "https://localhost:8080/",
          "height": 34
        },
        "outputId": "3e4d6504-91ea-4a35-eb3c-a5ebf1d965f6"
      },
      "cell_type": "code",
      "source": [
        "xpath"
      ],
      "execution_count": 17,
      "outputs": [
        {
          "output_type": "execute_result",
          "data": {
            "text/plain": [
              "[\"//input[@value='VAI']\"]"
            ]
          },
          "metadata": {
            "tags": []
          },
          "execution_count": 17
        }
      ]
    }
  ]
}