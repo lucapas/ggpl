{
 "cells": [
  {
   "cell_type": "markdown",
   "metadata": {},
   "source": [
    "# Villa Pisani\n",
    "\n",
    "![Villa_Pisani_Bagnolo_front_retouched%20%282%29.jpg](image/Villa_Pisani_Bagnolo_front_retouched%20%282%29.jpg)\n",
    "\n"
   ]
  },
  {
   "cell_type": "code",
   "execution_count": 1,
   "metadata": {},
   "outputs": [
    {
     "name": "stdout",
     "output_type": "stream",
     "text": [
      "Evaluating fenvs.py..\n",
      "...fenvs.py imported in 0.0198559577068 seconds\n"
     ]
    },
    {
     "data": {
      "text/plain": [
       "<pyplasm.xgepy.Hpc; proxy of <Swig Object of type 'std::shared_ptr< Hpc > *' at 0x0000000006F4D480> >"
      ]
     },
     "execution_count": 1,
     "metadata": {},
     "output_type": "execute_result"
    }
   ],
   "source": [
    "from pyplasm import *\n",
    "import math\n",
    "import csv\n",
    "\n",
    "with open(\"planimetria.lines\", \"rb\") as file:\n",
    "    reader = csv.reader(file, delimiter=\",\")\n",
    "    walls = []\n",
    "    for row in reader:\n",
    "        row0 = math.floor(float(row[0])*100)/100\n",
    "        row1 = math.floor(float(row[1])*100)/100\n",
    "        row2 = math.floor(float(row[2])*100)/100\n",
    "        row3 = math.floor(float(row[3])*100)/100\n",
    "        walls.append(POLYLINE([[row0, row1], [row2, row3]]))\n",
    "\n",
    "VIEW(STRUCT(walls))"
   ]
  },
  {
   "cell_type": "code",
   "execution_count": null,
   "metadata": {
    "collapsed": true
   },
   "outputs": [],
   "source": []
  }
 ],
 "metadata": {
  "kernelspec": {
   "display_name": "Python 2",
   "language": "python",
   "name": "python2"
  },
  "language_info": {
   "codemirror_mode": {
    "name": "ipython",
    "version": 2
   },
   "file_extension": ".py",
   "mimetype": "text/x-python",
   "name": "python",
   "nbconvert_exporter": "python",
   "pygments_lexer": "ipython2",
   "version": "2.7.13"
  }
 },
 "nbformat": 4,
 "nbformat_minor": 2
}
