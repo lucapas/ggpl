{
 "cells": [
  {
   "cell_type": "markdown",
   "metadata": {},
   "source": [
    "# My Room\n",
    "\n",
    "Il presente lavoro riguarda la creazione di librerie sedie e scaffali da mettere in una stanza. Sono state prese spunto le immagini seguenti: <br />\n",
    "\n",
    "### Variabili generiche\n",
    "\n",
    "width,depth e height rappresentano la larghezza, la profondità e l'altezza<br /> <br />\n",
    "\n",
    "<img style=\"float: left;\" src=\"imm/Cattura6.PNG\">\n",
    "<img style=\"float: right;\" src=\"imm/Cattura7.PNG\">\n",
    "<img style=\"float: center;\" src=\"imm/Cattura8.PNG\">\n"
   ]
  },
  {
   "cell_type": "markdown",
   "metadata": {},
   "source": [
    "# shelfes\n",
    "\n",
    "Il metodo shelfes crea dei scaffali in proporzione in base alla creazione di uno scaffale di 7 piani e 3 colonne. <br />\n",
    "il metodo shelf in base alle dimensioni x y z passate come parametri crea uno scaffale\n",
    "\n",
    "### Lib\n",
    "\n",
    "alcune funzioni generiche sono state messe in un file lib.py che verrà importato\n",
    "\n",
    "\n",
    "### Variabili\n",
    "\n",
    "nella variabile shelfs viene creato uno scaffale chiamando il metodo shelf <br /> \n",
    "nella variabile shelf_list_up vengono creati i 7 piani <br />\n",
    "nella variabile library vengono create le 3 colonne <br />\n",
    "nella variabile plane e plane 3 viene creato il rialzo in basso <br />\n",
    "nella variabile shelfes viene costruita la libreria"
   ]
  },
  {
   "cell_type": "code",
   "execution_count": 3,
   "metadata": {},
   "outputs": [
    {
     "data": {
      "text/plain": [
       "<pyplasm.xgepy.Hpc; proxy of <Swig Object of type 'std::shared_ptr< Hpc > *' at 0x0000000006AD22D0> >"
      ]
     },
     "execution_count": 3,
     "metadata": {},
     "output_type": "execute_result"
    }
   ],
   "source": [
    "#simple librery\n",
    "\n",
    "from larlib import *\n",
    "from lib import *\n",
    "\n",
    "def shelfes(width,depth,height):\n",
    "\n",
    "    shelfs=shelf(width,depth,height)\n",
    "    shelf_list_up=STRUCT(NN(7)([shelfs,T(3)(height)]))\n",
    "    library=RIGHT([RIGHT([shelf_list_up,shelf_list_up]),shelf_list_up])\n",
    "    plane=CUBOID([width,depth,height*0.2])\n",
    "    plane3=RIGHT([RIGHT([plane,plane]),plane])\n",
    "    shelfes=STRUCT([plane3,T(3)(height*0.2)(library)])\n",
    "    return shelfes\n",
    "\n",
    "VIEW(shelfes(1,1,1))"
   ]
  },
  {
   "cell_type": "markdown",
   "metadata": {},
   "source": [
    "![Cattura.PNG](imm/Cattura.PNG)"
   ]
  },
  {
   "cell_type": "markdown",
   "metadata": {},
   "source": [
    "# desk\n",
    "\n",
    "Il metodo desk crea una scrivania con una sedia <br />\n",
    "\n",
    "### Variabili\n",
    "\n",
    "nella variabile legs e legs2 vengono create le gambe del tavolo e della sedia <br /> \n",
    "nella variabile plane e palne2 la base del tavolo e della sedia <br />\n",
    "nella variabile table viene assemblato il tavolo<br />\n",
    "nella variabile plane_up viene creato lo schienale della sedia <br />\n",
    "nella variabile chai viene assemblata la sedia <br />\n",
    "nella variabile desk viene assemblato la sedia con il tavolo"
   ]
  },
  {
   "cell_type": "code",
   "execution_count": 4,
   "metadata": {},
   "outputs": [
    {
     "data": {
      "text/plain": [
       "<pyplasm.xgepy.Hpc; proxy of <Swig Object of type 'std::shared_ptr< Hpc > *' at 0x00000000069DEF60> >"
      ]
     },
     "execution_count": 4,
     "metadata": {},
     "output_type": "execute_result"
    }
   ],
   "source": [
    "#table\n",
    "from larlib import *\n",
    "from lib import *\n",
    "\n",
    "\n",
    "def desk(width,depth,height):\n",
    "\n",
    "    tabl=table(width,depth,height)\n",
    "    chair=table(width*0.5,depth*0.333,height*0.5)\n",
    "    cubo=CUBOID([width*.05,depth*1.5*0.333,height*0.5])\n",
    "    chair=STRUCT([chair,T([1,3])([width*0.45,height*0.4])(cubo)])\n",
    "    return STRUCT([tabl,T([1,2])([width*0.7,depth*0.6])(chair)])\n",
    "\n",
    "VIEW(desk(1,1,1))"
   ]
  },
  {
   "cell_type": "markdown",
   "metadata": {},
   "source": [
    "![Cattura4.PNG](imm/Cattura4.PNG)"
   ]
  },
  {
   "cell_type": "markdown",
   "metadata": {
    "collapsed": true
   },
   "source": [
    "# library\n",
    "\n",
    "Il metodo desk crea una libreria. <br />\n",
    "\n",
    "### Variabili\n",
    "\n",
    "nella variabile shelf_center viene creato lo scaffale centrale <br /> \n",
    "nella variabile library_central lo scaffale centrale viene ripetuto 7 volte <br />\n",
    "nella variabile shelf_lateral viene creato lo scaffale laterale <br /> \n",
    "nella variabile library_lateral lo scaffale laterale viene ripetuto 7 volte <br />\n",
    "nella variabile library_lateral lo scaffale laterale viene ripetuto 7 volte <br />\n",
    "nella variabile library viene assemblato il tutto <br />\n",
    "nella variabile leg vengono create le gambe <br />\n",
    "nella variabile library2 viene assemblato il tutto<br />"
   ]
  },
  {
   "cell_type": "code",
   "execution_count": 5,
   "metadata": {},
   "outputs": [
    {
     "data": {
      "text/plain": [
       "<pyplasm.xgepy.Hpc; proxy of <Swig Object of type 'std::shared_ptr< Hpc > *' at 0x0000000006AD25D0> >"
      ]
     },
     "execution_count": 5,
     "metadata": {},
     "output_type": "execute_result"
    }
   ],
   "source": [
    "from larlib import *\n",
    "from lib import *\n",
    "\n",
    "def library(width,depth,height):\n",
    "\n",
    "\n",
    "    shelf_center=COLOR(BROWN)(shelf(width*1.5,depth,height))\n",
    "    library_central=STRUCT(NN(7)([shelf_center,T(3)(height)]))\n",
    "    shelf_lateral=COLOR(BROWN)(shelf(width*6,depth,height))\n",
    "    library_lateral=STRUCT(NN(7)([shelf_lateral,T(3)(height)]))\n",
    "    library=RIGHT([RIGHT([library_lateral,library_central]),library_lateral])\n",
    "    leg=COLOR(BROWN)(CUBOID([width*0.30,depth,height]))\n",
    "    library2=STRUCT([T(3)(height)(library),leg,T(1)(width*5.7)(leg),T(1)(width*7.45)(leg),T(1)(width*13.2)(leg)])\n",
    "    return library2\n",
    "VIEW(library(1,1,1))"
   ]
  },
  {
   "cell_type": "markdown",
   "metadata": {},
   "source": [
    "![Cattura.PNG](imm/Cattura2.PNG)"
   ]
  },
  {
   "cell_type": "markdown",
   "metadata": {},
   "source": [
    "# lib\n",
    "\n",
    "Il metodo lib crea un armadio con scaffali e due armadi passando come parametro la dimensione generica<br />\n",
    "\n",
    "### Variabili\n",
    "\n",
    "nella variabile shelf_center viene creato lo scaffale centrale <br /> \n",
    "nella variabile library_central lo scaffale centrale viene ripetuto 7 volte <br />\n",
    "nella variabile shelf_right lo scaffale dentro l'armadio viene ripetuto 7 volte <br />\n",
    "nella variabile sphere viene creata la maniglia per armadi e cassetti <br />\n",
    "nella variabile shelf_cage, door e cage creano un armadio stessa cosa per shelf_cage2, door2 e cage2 <br /> \n",
    "nella variabile drawer viene creato un cassetto <br />\n",
    "nella variabile library_lateral e library viene assemblato la parte a destra con l'armadio con due cassetti <br /> \n",
    "nella variabile leg vengono create le gambe <br />\n",
    "nella variabile library2 viene assemblato il tutto<br />\n",
    "nella variabile window viene creata la finestra per l'armadio"
   ]
  },
  {
   "cell_type": "code",
   "execution_count": 2,
   "metadata": {},
   "outputs": [
    {
     "name": "stdout",
     "output_type": "stream",
     "text": [
      "Child 3\n",
      "Child 3\n"
     ]
    },
    {
     "data": {
      "text/plain": [
       "<pyplasm.xgepy.Hpc; proxy of <Swig Object of type 'std::shared_ptr< Hpc > *' at 0x0000000006AB9780> >"
      ]
     },
     "execution_count": 2,
     "metadata": {},
     "output_type": "execute_result"
    }
   ],
   "source": [
    "from larlib import *\n",
    "from lib import *\n",
    "\n",
    "\n",
    "\n",
    "def lib(width,depth,height):\n",
    "    \n",
    "    #scaffale al centro\n",
    "    color=GRAY\n",
    "    shelf_center=COLOR(color)(shelf(width*4,depth,height))\n",
    "    library_central=STRUCT(NN(7)([shelf_center,T(3)(height)]))\n",
    "    \n",
    "    #armadio in alto a destra\n",
    "    sphere=COLOR(BROWN)(SPHERE(width*0.1)([depth*24,height*32]))\n",
    "    shelf_right=COLOR(color)(shelf(width*4,depth,height*0.7142))\n",
    "    shelf_cage=STRUCT(NN(7)([shelf_right,T(3)(height*0.7142)]))\n",
    "    door=CUBOID([width*2,depth*0.1,height*7*0.7142])\n",
    "    window = CUBOID([width*1.3,depth*0.1,height*5.3*0.7142])\n",
    "    door=DIFFERENCE([door,T([1,3])([width*0.3,height*0.7142])(window)])\n",
    "    window = hex_material(\"#ffffff\", \"#ffffff\", .4)(window)\n",
    "    door=COLOR(color)(STRUCT([door,T([1,3])([width*0.3,height*0.7142])(window)]))\n",
    "    cage_temp=STRUCT([shelf_cage,T(2)(depth*0.9)(door),T([1,2])([width*2,depth*0.9])(door)])\n",
    "    cage=STRUCT([cage_temp,T([1,2,3])([width*1.75,depth,height*4*0.7142])(sphere),T([1,2,3])([width*2.175,depth,height*4*0.7142])(sphere)])\n",
    "    \n",
    "    #scaffali in basso a destra \n",
    "    sphere2=COLOR(BROWN)(SPHERE(width*0.15)([depth*24,height*32]))\n",
    "    drawer=COLOR(color)(STRUCT([shelf(width*4,depth,height),T([1,2,3])([width*2,depth,height*0.5])(sphere2),T([2,3])([depth*0.9,height*0.05])(CUBOID([width*4,depth*0.1,height*0.90]))]))\n",
    "    library_lateral=STRUCT([TOP([drawer,drawer]),T(3)(height*2)(cage)])\n",
    "    \n",
    "    #armadio a sinistra\n",
    "    shelf_cage2=COLOR(color)(shelf(width*4,depth,height*0.5))\n",
    "    shelf_cage3=STRUCT(NN(4)([shelf_cage2,T(3)(height*0.5)]))\n",
    "    door2=COLOR(color)(CUBOID([width*2,depth*0.1,height*2]))\n",
    "    cage_temp2=STRUCT([shelf_cage3,T(2)(depth*0.9)(door2),T([1,2])([width*2,depth*0.9])(door2)])\n",
    "    cage2=STRUCT([cage_temp2,T(3)(height*2)(cage_temp),T([1,2,3])([width*1.75,depth,height*3])(sphere),T([1,2,3])([width*2.175,depth,height*3])(sphere)]) \n",
    "    \n",
    "    #unisco il tutto\n",
    "    library=RIGHT([RIGHT([library_lateral,library_central]),cage2])\n",
    "    \n",
    "    leg=COLOR(color)(CUBOID([width*0.30,depth,height]))\n",
    "    library2=STRUCT([T(3)(height)(library),leg,T(1)(width*3.85)(leg),T(1)(width*7.85)(leg),T(1)(width*11.7)(leg)])\n",
    "    return library2\n",
    "\n",
    "VIEW(lib(1,1,1))"
   ]
  },
  {
   "cell_type": "markdown",
   "metadata": {
    "collapsed": true
   },
   "source": [
    "![image](imm/Cattura3.PNG)"
   ]
  },
  {
   "cell_type": "markdown",
   "metadata": {},
   "source": [
    "# room\n",
    "\n",
    "il metodo room prende come parametri width,depth e height e viene creata la stanza <br />"
   ]
  },
  {
   "cell_type": "code",
   "execution_count": 6,
   "metadata": {},
   "outputs": [
    {
     "name": "stdout",
     "output_type": "stream",
     "text": [
      "Child 3\n",
      "Child 3\n"
     ]
    },
    {
     "data": {
      "text/plain": [
       "<pyplasm.xgepy.Hpc; proxy of <Swig Object of type 'std::shared_ptr< Hpc > *' at 0x000000000A462CC0> >"
      ]
     },
     "execution_count": 6,
     "metadata": {},
     "output_type": "execute_result"
    }
   ],
   "source": [
    "#room\n",
    "def c(width,depth,height):\n",
    "    if width>depth:\n",
    "        return CUBOID([width*20,width*20,height*0.1])\n",
    "    return CUBOID([depth*20,depth*20,height*0.1])\n",
    "\n",
    "def ggpl_my_room(width,depth,height):\n",
    "    \n",
    "    return STRUCT([lib(width,depth,height),T(2)(depth*5)(desk(width*3,depth*3,height*3)),T(1)(width*13)(shelfes(width,depth,height)),T([1,2])([width*17,depth*3])(R([1,2])(PI/2)(library(width,depth,height))),c(width,depth,height)])\n",
    "\n",
    "VIEW(ggpl_my_room(3,3,3))"
   ]
  },
  {
   "cell_type": "markdown",
   "metadata": {},
   "source": [
    "![image](imm/Cattura5.PNG)"
   ]
  },
  {
   "cell_type": "code",
   "execution_count": null,
   "metadata": {
    "collapsed": true
   },
   "outputs": [],
   "source": []
  }
 ],
 "metadata": {
  "kernelspec": {
   "display_name": "Python 2",
   "language": "python",
   "name": "python2"
  },
  "language_info": {
   "codemirror_mode": {
    "name": "ipython",
    "version": 2
   },
   "file_extension": ".py",
   "mimetype": "text/x-python",
   "name": "python",
   "nbconvert_exporter": "python",
   "pygments_lexer": "ipython2",
   "version": "2.7.13"
  }
 },
 "nbformat": 4,
 "nbformat_minor": 2
}
