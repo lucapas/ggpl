{
 "cells": [
  {
   "cell_type": "code",
   "execution_count": null,
   "metadata": {
    "collapsed": true
   },
   "outputs": [],
   "source": [
    "from larlib import *\n",
    "def hex_material(color, light, trasparence):\n",
    "\n",
    "    def hex_to_rgb(value):\n",
    "        value = value.lstrip('#')\n",
    "        lv = len(value)\n",
    "        return map(lambda x: x/255., list(int(value[i:i + lv // 3], 16) for i in range(0, lv, lv // 3)))\n",
    "\n",
    "    params = hex_to_rgb(color) + [.1] + \\\n",
    "             hex_to_rgb(light) + [trasparence] +\\\n",
    "             hex_to_rgb(light) + [.1] +\\\n",
    "             hex_to_rgb(\"#000000\") + [.1] +\\\n",
    "             [100]\n",
    "\n",
    "    return MATERIAL(params)"
   ]
  }
 ],
 "metadata": {
  "kernelspec": {
   "display_name": "Python 2",
   "language": "python",
   "name": "python2"
  },
  "language_info": {
   "codemirror_mode": {
    "name": "ipython",
    "version": 2
   },
   "file_extension": ".py",
   "mimetype": "text/x-python",
   "name": "python",
   "nbconvert_exporter": "python",
   "pygments_lexer": "ipython2",
   "version": "2.7.13"
  }
 },
 "nbformat": 4,
 "nbformat_minor": 2
}
