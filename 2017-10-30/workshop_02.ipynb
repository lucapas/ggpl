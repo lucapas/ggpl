{
 "cells": [
  {
   "cell_type": "code",
   "execution_count": 1,
   "metadata": {},
   "outputs": [
    {
     "name": "stdout",
     "output_type": "stream",
     "text": [
      "Evaluating fenvs.py..\n",
      "...fenvs.py imported in 0.00548296585645 seconds\n"
     ]
    },
    {
     "name": "stderr",
     "output_type": "stream",
     "text": [
      "C:\\Program Files\\Anaconda2\\lib\\site-packages\\larlib\\larstruct.py:233: FutureWarning: comparison to `None` will result in an elementwise object comparison in the future.\n",
      "  self.body = [item for item in data if item != None]\n"
     ]
    },
    {
     "data": {
      "text/plain": [
       "<pyplasm.xgepy.Hpc; proxy of <Swig Object of type 'std::shared_ptr< Hpc > *' at 0x00000000111F3630> >"
      ]
     },
     "execution_count": 1,
     "metadata": {},
     "output_type": "execute_result"
    }
   ],
   "source": [
    "#simple librery\n",
    "\n",
    "from pyplasm import *\n",
    "from larlib import *\n",
    "\n",
    "def shelfes():\n",
    "\n",
    "    def tile(x,y,z):\n",
    "        return PROD([PROD([QUOTE([x]),QUOTE([y])]),QUOTE([z])])\n",
    "\n",
    "    shelf=STRUCT([tile(1,1,0.05),tile(1,0.05,1),tile(0.05,1,1),T(1)(0.95)(tile(0.05,1,1)),T(3)(0.95)(tile(1,1,0.05))])\n",
    "    shelf_list_up=STRUCT(NN(7)([shelf,T(3)(1)]))\n",
    "    library=RIGHT([RIGHT([shelf_list_up,shelf_list_up]),shelf_list_up])\n",
    "    plane=tile(1,1,0.2)\n",
    "    plane3=RIGHT([RIGHT([plane,plane]),plane])\n",
    "    shelfes=STRUCT([plane3,T(3)(0.2)(library)])\n",
    "    return shelfes\n",
    "VIEW(shelfes())"
   ]
  },
  {
   "cell_type": "markdown",
   "metadata": {},
   "source": [
    "![Cattura.PNG](imm/Cattura.PNG)"
   ]
  },
  {
   "cell_type": "code",
   "execution_count": 2,
   "metadata": {},
   "outputs": [
    {
     "data": {
      "text/plain": [
       "<pyplasm.xgepy.Hpc; proxy of <Swig Object of type 'std::shared_ptr< Hpc > *' at 0x00000000112028A0> >"
      ]
     },
     "execution_count": 2,
     "metadata": {},
     "output_type": "execute_result"
    }
   ],
   "source": [
    "#table\n",
    "\n",
    "from pyplasm import *\n",
    "from larlib import *\n",
    "\n",
    "def desk():\n",
    "\n",
    "    legs=PROD([PROD([QUOTE([0.1,-0.8,0.1]),QUOTE([0.1,-0.8,0.1])]),QUOTE([0.7])])\n",
    "    plane=PROD([PROD([QUOTE([1]),QUOTE([1])]),QUOTE([0.2])])\n",
    "    table=TOP([legs,plane])\n",
    "    table2=S([1,2,3])([1,2,1])(table)\n",
    "    plane2=PROD([PROD([QUOTE([0.1]),QUOTE([1])]),QUOTE([1])])\n",
    "    chair=STRUCT([table,T([1,3])([0.9,0.9])(plane2)])\n",
    "    chair2=S([1,2,3])([0.4,0.4,0.5])(chair)\n",
    "    desk=STRUCT([table2,T([1,2])([1,1])(chair2)])  \n",
    "    return desk\n",
    "\n",
    "VIEW(desk())"
   ]
  },
  {
   "cell_type": "markdown",
   "metadata": {},
   "source": [
    "![Cattura4.PNG](imm/Cattura4.PNG)"
   ]
  },
  {
   "cell_type": "code",
   "execution_count": 3,
   "metadata": {},
   "outputs": [
    {
     "data": {
      "text/plain": [
       "<pyplasm.xgepy.Hpc; proxy of <Swig Object of type 'std::shared_ptr< Hpc > *' at 0x0000000011911210> >"
      ]
     },
     "execution_count": 3,
     "metadata": {},
     "output_type": "execute_result"
    }
   ],
   "source": [
    "from pyplasm import *\n",
    "from larlib import *\n",
    "\n",
    "def library():\n",
    "\n",
    "    def tile(x,y,z):\n",
    "        return PROD([PROD([QUOTE([x]),QUOTE([y])]),QUOTE([z])])\n",
    "\n",
    "    shelf=COLOR(BROWN)(STRUCT([tile(1,1,0.05),tile(1,0.05,1),tile(0.01,1,1),T(1)(0.99)(tile(0.01,1,1)),T(3)(0.95)(tile(1,1,0.05))]))\n",
    "    shelf_center=COLOR(BROWN)(S(1)(1.5)(shelf))\n",
    "    shelf__center_list_up=STRUCT(NN(7)([shelf_center,T(3)(1)]))\n",
    "\n",
    "    shelf_lateral=COLOR(BROWN)(S(1)(4)(shelf))\n",
    "    shelf__lateral_list_up=STRUCT(NN(7)([shelf_lateral,T(3)(1)]))\n",
    "    leg=COLOR(BROWN)(tile(0.1,1,1))\n",
    "    leg_list=STRUCT(NN(8)([leg,T(3)(1)]))\n",
    "\n",
    "    up=tile(0.000001,0.000001,0.0000001)\n",
    "\n",
    "\n",
    "    library_central=RIGHT([RIGHT([leg_list,STRUCT([up,T(3)(1)(shelf__center_list_up)])]),leg_list])\n",
    "\n",
    "    library_lateral=RIGHT([RIGHT([leg_list,STRUCT([up,T(3)(1)(shelf__lateral_list_up)])]),leg_list])\n",
    "\n",
    "\n",
    "\n",
    "    library2=RIGHT([RIGHT([library_lateral,library_central]),library_lateral])\n",
    "    return library2\n",
    "VIEW(library())"
   ]
  },
  {
   "cell_type": "markdown",
   "metadata": {},
   "source": [
    "![Cattura.PNG](imm/Cattura2.PNG)"
   ]
  },
  {
   "cell_type": "code",
   "execution_count": 3,
   "metadata": {},
   "outputs": [
    {
     "name": "stdout",
     "output_type": "stream",
     "text": [
      "Child 3\n"
     ]
    },
    {
     "data": {
      "text/plain": [
       "<pyplasm.xgepy.Hpc; proxy of <Swig Object of type 'std::shared_ptr< Hpc > *' at 0x00000000112D2630> >"
      ]
     },
     "execution_count": 3,
     "metadata": {},
     "output_type": "execute_result"
    }
   ],
   "source": [
    "from pyplasm import *\n",
    "from larlib import *\n",
    "\n",
    "def lib():\n",
    "\n",
    "\n",
    "    def tile(x,y,z):\n",
    "        return PROD([PROD([QUOTE([x]),QUOTE([y])]),QUOTE([z])])\n",
    "\n",
    "    color=GRAY\n",
    "    shelf=COLOR(color)(STRUCT([tile(1,1,0.05),tile(1,0.05,1),tile(0.01,1,1),T(1)(0.99)(tile(0.01,1,1)),T(3)(0.95)(tile(1,1,0.05))]))\n",
    "    shelf_center=COLOR(color)(S(1)(4)(shelf))\n",
    "    shelf__center_list_up=STRUCT(NN(7)([shelf_center,T(3)(1)]))\n",
    "\n",
    "    sphere=COLOR(BROWN)(SPHERE(0.2)([24,32]))\n",
    "\n",
    "    shelf_cage=COLOR(color)(S([1,3])([4,7])(shelf))\n",
    "    door=COLOR(color)(tile(2,0.1,7))\n",
    "    cage=STRUCT([shelf_cage,T(2)(1)(door),T([1,2])([2,1])(door),T([1,2,3])([1.6,1.2,4])(sphere),T([1,2,3])([2.4,1.2,4])(sphere)])\n",
    "\n",
    "\n",
    "    leg=COLOR(color)(tile(0.01,1,1))\n",
    "    leg_list=STRUCT(NN(8)([leg,T(3)(1)]))\n",
    "\n",
    "    up=tile(0.000001,0.000001,0.0000001)\n",
    "\n",
    "\n",
    "    drawer=COLOR(color)(STRUCT([tile(1,1,0.05),tile(1,0.05,1),tile(0.01,1,1),T(1)(0.99)(tile(0.05,1,1)),\n",
    "                                T(2)(0.99)(tile(1,0.01,1)),T(3)(0.95)(tile(1,1,0.05))]))\n",
    "\n",
    "\n",
    "    shelf_right=COLOR(color)(S(1)(4)(drawer))\n",
    "\n",
    "    p=S([1,3])([1.03,0.715])(cage)\n",
    "    q=T(3)(5)(p)\n",
    "    w=STRUCT(NN(2)([shelf_right,T(3)(1)]))\n",
    "    shelf__right_list_up=STRUCT([w,T(3)(2)(p)])\n",
    "    shelf__left_list_up=cage\n",
    "\n",
    "\n",
    "    library_central=RIGHT([RIGHT([leg_list,STRUCT([up,T(3)(1)(shelf__center_list_up)])]),leg_list])\n",
    "    library_right=RIGHT([RIGHT([leg_list,STRUCT([up,T(3)(1)(shelf__right_list_up)])]),leg_list])\n",
    "    library_left=RIGHT([RIGHT([leg_list,STRUCT([up,T(3)(1)(shelf__left_list_up)])]),leg_list])\n",
    "\n",
    "\n",
    "\n",
    "    library2=RIGHT([RIGHT([library_right,library_central]),library_left])\n",
    "    lib=STRUCT([library2,T([1,2,3])([2,1.1,1.5])(sphere),T([1,2,3])([2,1.1,2.5])(sphere)])\n",
    "    return lib\n",
    "\n",
    "VIEW(lib())"
   ]
  },
  {
   "cell_type": "markdown",
   "metadata": {
    "collapsed": true
   },
   "source": [
    "![image](imm/Cattura3.PNG)"
   ]
  },
  {
   "cell_type": "code",
   "execution_count": 7,
   "metadata": {},
   "outputs": [
    {
     "name": "stdout",
     "output_type": "stream",
     "text": [
      "Child 3\n"
     ]
    },
    {
     "data": {
      "text/plain": [
       "<pyplasm.xgepy.Hpc; proxy of <Swig Object of type 'std::shared_ptr< Hpc > *' at 0x00000000027B2B40> >"
      ]
     },
     "execution_count": 7,
     "metadata": {},
     "output_type": "execute_result"
    }
   ],
   "source": [
    "#room\n",
    "\n",
    "c=PROD([PROD([QUOTE([20]),QUOTE([0.05])]),QUOTE([12])])\n",
    "\n",
    "\n",
    "VIEW(STRUCT([lib(),T([1,2])([2,5])(S([1,2,3])([2,2,2])(desk())),T(1)(13)(shelfes()),c]))"
   ]
  },
  {
   "cell_type": "markdown",
   "metadata": {},
   "source": [
    "![image](imm/Cattura5.PNG)"
   ]
  },
  {
   "cell_type": "code",
   "execution_count": null,
   "metadata": {
    "collapsed": true
   },
   "outputs": [],
   "source": []
  }
 ],
 "metadata": {
  "kernelspec": {
   "display_name": "Python 2",
   "language": "python",
   "name": "python2"
  },
  "language_info": {
   "codemirror_mode": {
    "name": "ipython",
    "version": 2
   },
   "file_extension": ".py",
   "mimetype": "text/x-python",
   "name": "python",
   "nbconvert_exporter": "python",
   "pygments_lexer": "ipython2",
   "version": "2.7.13"
  }
 },
 "nbformat": 4,
 "nbformat_minor": 2
}
