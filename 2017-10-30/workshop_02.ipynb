{
 "cells": [
  {
   "cell_type": "markdown",
   "metadata": {},
   "source": [
    "# My Room\n",
    "\n",
    "Il presente lavoro riguarda la creazione di librerie sedie e scaffali da mettere in una stanza. Sono state prese spunto le immagini seguenti: <br />\n",
    "<img style=\"float: left;\" src=\"imm/Cattura6.PNG\">\n",
    "<img style=\"float: right;\" src=\"imm/Cattura7.PNG\">\n",
    "<img style=\"float: center;\" src=\"imm/Cattura8.PNG\">\n"
   ]
  },
  {
   "cell_type": "markdown",
   "metadata": {},
   "source": [
    "# shelfes\n",
    "\n",
    "Il metodo shelfes crea dei scaffali passando con un parametro che indica la dimensione che satà proporzionale in base alla creazione di uno scaffale di 7 piani e 3 colonne. <br />\n",
    "il metodo shelf in base alle dimensioni x y z passate come parametri crea uno scaffale\n",
    "\n",
    "### Variabili\n",
    "\n",
    "nella variabile shelfs viene creato uno scaffale chiamando il metodo shelf <br /> \n",
    "nella variabile shelf_list_up vengono creati i 7 piani <br />\n",
    "nella variabile library vengono create le 3 colonne <br />\n",
    "nella variabile plane e plane 3 viene creato il rialzo in basso <br />\n",
    "nella variabile shelfes viene costruita la libreria"
   ]
  },
  {
   "cell_type": "code",
   "execution_count": 39,
   "metadata": {},
   "outputs": [
    {
     "data": {
      "text/plain": [
       "<pyplasm.xgepy.Hpc; proxy of <Swig Object of type 'std::shared_ptr< Hpc > *' at 0x00000000119D9CC0> >"
      ]
     },
     "execution_count": 39,
     "metadata": {},
     "output_type": "execute_result"
    }
   ],
   "source": [
    "#simple librery\n",
    "\n",
    "from pyplasm import *\n",
    "from larlib import *\n",
    "\n",
    "def shelf(x,y,z):\n",
    "    return STRUCT([CUBOID([x,y,z*0.05]),CUBOID([x,y*0.05,z]),CUBOID([x*0.05,y,z]),T(1)(x*0.95)(CUBOID([x*0.05,y,z])),T(3)(z*0.95)(CUBOID([x,y,z*0.05]))])\n",
    "\n",
    "def shelfes(dim):\n",
    "\n",
    "    shelfs=shelf(dim,dim,dim)\n",
    "    shelf_list_up=STRUCT(NN(7)([shelfs,T(3)(dim)]))\n",
    "    library=RIGHT([RIGHT([shelf_list_up,shelf_list_up]),shelf_list_up])\n",
    "    plane=CUBOID([dim,dim,dim*0.2])\n",
    "    plane3=RIGHT([RIGHT([plane,plane]),plane])\n",
    "    shelfes=STRUCT([plane3,T(3)(dim*0.2)(library)])\n",
    "    return shelfes\n",
    "\n",
    "VIEW(shelfes(1))"
   ]
  },
  {
   "cell_type": "markdown",
   "metadata": {},
   "source": [
    "![Cattura.PNG](imm/Cattura.PNG)"
   ]
  },
  {
   "cell_type": "markdown",
   "metadata": {},
   "source": [
    "# desk\n",
    "\n",
    "Il metodo desk crea una scrivania con una sedia passando come parametro la dimensione che sarà proporzionale in base alla creazione di una sedia e una scrivania. <br />\n",
    "\n",
    "### Variabili\n",
    "\n",
    "nella variabile legs e legs2 vengono create le gambe del tavolo e della sedia <br /> \n",
    "nella variabile plane e palne2 la base del tavolo e della sedia <br />\n",
    "nella variabile table viene assemblato il tavolo<br />\n",
    "nella variabile plane_up viene creato lo schienale della sedia <br />\n",
    "nella variabile chai viene assemblata la sedia <br />\n",
    "nella variabile desk viene assemblato la sedia con il tavolo"
   ]
  },
  {
   "cell_type": "code",
   "execution_count": 2,
   "metadata": {},
   "outputs": [
    {
     "data": {
      "text/plain": [
       "<pyplasm.xgepy.Hpc; proxy of <Swig Object of type 'std::shared_ptr< Hpc > *' at 0x00000000046BC240> >"
      ]
     },
     "execution_count": 2,
     "metadata": {},
     "output_type": "execute_result"
    }
   ],
   "source": [
    "#table\n",
    "\n",
    "from pyplasm import *\n",
    "from larlib import *\n",
    "\n",
    "def desk(dim):\n",
    "\n",
    "    legs=PROD([PROD([QUOTE([dim*0.1,dim*-0.8,dim*0.1]),QUOTE([dim*0.1,dim*-1.8,dim*0.1])]),QUOTE([dim*0.7])])\n",
    "    plane=PROD([PROD([QUOTE([dim]),QUOTE([dim*2])]),QUOTE([dim*0.2])])\n",
    "    table=TOP([legs,plane])\n",
    "    \n",
    "    legs2=PROD([PROD([QUOTE([dim*0.05,dim*-0.4,dim*0.05]),QUOTE([dim*0.05,dim*-0.4,dim*0.05])]),QUOTE([dim*0.35])])\n",
    "    plane2=PROD([PROD([QUOTE([dim*0.5]),QUOTE([dim*0.5])]),QUOTE([dim*0.1])])\n",
    "    plane_up=PROD([PROD([QUOTE([dim*0.05]),QUOTE([dim*0.5])]),QUOTE([dim*0.5])])\n",
    "    chair=STRUCT([legs2,T(3)(dim*0.35)(plane2),T([1,3])([dim*0.45,dim*0.45])(plane_up)])\n",
    "    desk=STRUCT([table,T([1,2])([dim*0.8,dim*0.8])(chair)])  \n",
    "    return desk\n",
    "\n",
    "VIEW(desk(2))"
   ]
  },
  {
   "cell_type": "markdown",
   "metadata": {},
   "source": [
    "![Cattura4.PNG](imm/Cattura4.PNG)"
   ]
  },
  {
   "cell_type": "markdown",
   "metadata": {
    "collapsed": true
   },
   "source": [
    "# library\n",
    "\n",
    "Il metodo desk crea una libreria con una sedia passando come parametro la dimensione che sarà proporzionale in base alla creazione di una libraria con 7 scaffali e 3 colonne. <br />\n",
    "\n",
    "### Variabili\n",
    "\n",
    "nella variabile shelf_center viene creato lo scaffale centrale <br /> \n",
    "nella variabile library_central lo scaffale centrale viene ripetuto 7 volte <br />\n",
    "nella variabile shelf_lateral viene creato lo scaffale laterale <br /> \n",
    "nella variabile library_lateral lo scaffale laterale viene ripetuto 7 volte <br />\n",
    "nella variabile library_lateral lo scaffale laterale viene ripetuto 7 volte <br />\n",
    "nella variabile library viene assemblato il tutto <br />\n",
    "nella variabile leg vengono create le gambe <br />\n",
    "nella variabile library2 viene assemblato il tutto<br />"
   ]
  },
  {
   "cell_type": "code",
   "execution_count": 59,
   "metadata": {},
   "outputs": [
    {
     "data": {
      "text/plain": [
       "<pyplasm.xgepy.Hpc; proxy of <Swig Object of type 'std::shared_ptr< Hpc > *' at 0x00000000119AEF60> >"
      ]
     },
     "execution_count": 59,
     "metadata": {},
     "output_type": "execute_result"
    }
   ],
   "source": [
    "from pyplasm import *\n",
    "from larlib import *\n",
    "\n",
    "def library(dim):\n",
    "\n",
    "\n",
    "    shelf_center=COLOR(BROWN)(shelf(dim*1.5,dim,dim))\n",
    "    library_central=STRUCT(NN(7)([shelf_center,T(3)(dim)]))\n",
    "    shelf_lateral=COLOR(BROWN)(shelf(dim*6,dim,dim))\n",
    "    library_lateral=STRUCT(NN(7)([shelf_lateral,T(3)(dim)]))\n",
    "    library=RIGHT([RIGHT([library_lateral,library_central]),library_lateral])\n",
    "    leg=COLOR(BROWN)(CUBOID([dim*0.30,dim,dim]))\n",
    "    library2=STRUCT([T(3)(dim)(library),leg,T(1)(dim*5.7)(leg),T(1)(dim*7.45)(leg),T(1)(dim*13.2)(leg)])\n",
    "    return library2\n",
    "VIEW(library(2))"
   ]
  },
  {
   "cell_type": "markdown",
   "metadata": {},
   "source": [
    "![Cattura.PNG](imm/Cattura2.PNG)"
   ]
  },
  {
   "cell_type": "markdown",
   "metadata": {},
   "source": [
    "# lib\n",
    "\n",
    "Il metodo lib crea un armadio con scaffali e due armadi passando come parametro la dimensione generica<br />\n",
    "\n",
    "### Variabili\n",
    "\n",
    "nella variabile shelf_center viene creato lo scaffale centrale <br /> \n",
    "nella variabile library_central lo scaffale centrale viene ripetuto 7 volte <br />\n",
    "nella variabile sphere viene creata la maniglia per armadi e cassetti <br />\n",
    "nella variabile shelf_cage, door e cage creano un armadio stessa cosa per shelf_cage2, door2 e cage2 <br /> \n",
    "nella variabile drawer viene creato un cassetto <br />\n",
    "nella variabile library_lateral e library viene assemblato la parte a destra con l'armadio con due cassetti <br /> \n",
    "nella variabile leg vengono create le gambe <br />\n",
    "nella variabile library2 viene assemblato il tutto<br />"
   ]
  },
  {
   "cell_type": "code",
   "execution_count": 106,
   "metadata": {},
   "outputs": [
    {
     "name": "stdout",
     "output_type": "stream",
     "text": [
      "Child 3\n",
      "Child 3\n"
     ]
    },
    {
     "data": {
      "text/plain": [
       "<pyplasm.xgepy.Hpc; proxy of <Swig Object of type 'std::shared_ptr< Hpc > *' at 0x0000000011A182A0> >"
      ]
     },
     "execution_count": 106,
     "metadata": {},
     "output_type": "execute_result"
    }
   ],
   "source": [
    "from pyplasm import *\n",
    "from larlib import *\n",
    "\n",
    "def lib(dim):\n",
    "\n",
    "    color=GRAY\n",
    "    shelf_center=COLOR(color)(shelf(dim*4,dim,dim))\n",
    "    library_central=STRUCT(NN(7)([shelf_center,T(3)(dim)]))\n",
    "    \n",
    "    sphere=COLOR(BROWN)(SPHERE(dim*0.2)([dim*24,dim*32]))\n",
    "\n",
    "    shelf_cage=COLOR(color)(shelf(dim*4,dim,dim*7))\n",
    "    door=COLOR(color)(CUBOID([dim*2,dim*0.1,dim*7]))\n",
    "    cage=STRUCT([shelf_cage,T(2)(dim*0.9)(door),T([1,2])([dim*2,dim*0.9])(door),T([1,2,3])([dim*1.6,dim*1.2,dim*4])(sphere),T([1,2,3])([dim*2.4,dim*1.2,dim*4])(sphere)])\n",
    "    \n",
    "    sphere2=COLOR(BROWN)(SPHERE(dim*0.15)([dim*24,dim*32]))\n",
    "    drawer=COLOR(color)(STRUCT([shelf(dim*4,dim,dim),T([1,2,3])([dim*2,dim,dim*0.5])(sphere2),T([2,3])([dim*0.9,dim*0.05])(CUBOID([dim*4,dim*0.1,dim*0.90]))]))\n",
    "\n",
    "    shelf_cage2=COLOR(color)(shelf(dim*4,dim,dim*5))\n",
    "    door2=COLOR(color)(CUBOID([dim*2,dim*0.1,dim*5]))\n",
    "    cage2=STRUCT([shelf_cage2,T(2)(dim*0.9)(door2),T([1,2])([dim*2,dim*0.9])(door2),T([1,2,3])([dim*1.6,dim*1.2,dim*2.5])(sphere),T([1,2,3])([dim*2.4,dim*1.2,dim*2.5])(sphere)]) \n",
    "    \n",
    "    library_lateral=STRUCT([TOP([drawer,drawer]),T(3)(dim*2)(cage2)])\n",
    "    library=RIGHT([RIGHT([library_lateral,library_central]),cage])\n",
    "    \n",
    "    leg=COLOR(color)(CUBOID([dim*0.30,dim,dim]))\n",
    "    library2=STRUCT([T(3)(dim)(library),leg,T(1)(dim*3.85)(leg),T(1)(dim*7.85)(leg),T(1)(dim*11.7)(leg)])\n",
    "    return library2\n",
    "\n",
    "VIEW(lib(1))"
   ]
  },
  {
   "cell_type": "markdown",
   "metadata": {
    "collapsed": true
   },
   "source": [
    "![image](imm/Cattura3.PNG)"
   ]
  },
  {
   "cell_type": "markdown",
   "metadata": {},
   "source": [
    "# room\n",
    "\n",
    "il metodo room prende come parametro la dimensione e viene creata la stanza <br />"
   ]
  },
  {
   "cell_type": "code",
   "execution_count": 120,
   "metadata": {},
   "outputs": [
    {
     "name": "stdout",
     "output_type": "stream",
     "text": [
      "Child 3\n",
      "Child 3\n"
     ]
    },
    {
     "data": {
      "text/plain": [
       "<pyplasm.xgepy.Hpc; proxy of <Swig Object of type 'std::shared_ptr< Hpc > *' at 0x0000000011A09120> >"
      ]
     },
     "execution_count": 120,
     "metadata": {},
     "output_type": "execute_result"
    }
   ],
   "source": [
    "#room\n",
    "\n",
    "def room(dim):\n",
    "    c=CUBOID([dim*20,dim*20,dim*0.1])\n",
    "    return STRUCT([lib(dim),T(2)(dim*5)(desk(dim*3)),T(1)(dim*13)(shelfes(dim)),T([1,2])([dim*17,dim*3])(R([1,2])(PI/2)(library(dim))),c])\n",
    "\n",
    "VIEW(room(1))"
   ]
  },
  {
   "cell_type": "markdown",
   "metadata": {},
   "source": [
    "![image](imm/Cattura5.PNG)"
   ]
  },
  {
   "cell_type": "code",
   "execution_count": null,
   "metadata": {
    "collapsed": true
   },
   "outputs": [],
   "source": []
  }
 ],
 "metadata": {
  "kernelspec": {
   "display_name": "Python 2",
   "language": "python",
   "name": "python2"
  },
  "language_info": {
   "codemirror_mode": {
    "name": "ipython",
    "version": 2
   },
   "file_extension": ".py",
   "mimetype": "text/x-python",
   "name": "python",
   "nbconvert_exporter": "python",
   "pygments_lexer": "ipython2",
   "version": "2.7.13"
  }
 },
 "nbformat": 4,
 "nbformat_minor": 2
}
