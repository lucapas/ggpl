{
 "cells": [
  {
   "cell_type": "code",
   "execution_count": null,
   "metadata": {
    "collapsed": true
   },
   "outputs": [],
   "source": [
    "from pyplasm import *\n",
    "from larlib import *\n",
    "\n",
    "def cyl(width,height,faces):\n",
    "    return JOIN(CYLINDER([width,height])(faces))\n",
    "\n",
    "VIEW(cyl(8,15,8))\n"
   ]
  },
  {
   "cell_type": "code",
   "execution_count": 19,
   "metadata": {},
   "outputs": [
    {
     "name": "stdout",
     "output_type": "stream",
     "text": [
      "Child 3\n"
     ]
    },
    {
     "data": {
      "text/plain": [
       "<pyplasm.xgepy.Hpc; proxy of <Swig Object of type 'std::shared_ptr< Hpc > *' at 0x00000000119DAE70> >"
      ]
     },
     "execution_count": 19,
     "metadata": {},
     "output_type": "execute_result"
    }
   ],
   "source": [
    "def dome(x,y,z):\n",
    "    spher=JOIN(SPHERE(x)([y,z]))\n",
    "    cubo=T([1,2])([-x,-x])(CUBOID([x*3,x*3,x*3]))\n",
    "    dom=INTERSECTION([cubo,spher])\n",
    "    return dom\n",
    "\n",
    "VIEW(dome(8,15,8))"
   ]
  },
  {
   "cell_type": "code",
   "execution_count": 3,
   "metadata": {},
   "outputs": [
    {
     "name": "stdout",
     "output_type": "stream",
     "text": [
      "Child 3\n"
     ]
    },
    {
     "data": {
      "text/plain": [
       "<pyplasm.xgepy.Hpc; proxy of <Swig Object of type 'std::shared_ptr< Hpc > *' at 0x000000001185E3C0> >"
      ]
     },
     "execution_count": 3,
     "metadata": {},
     "output_type": "execute_result"
    }
   ],
   "source": [
    "def tower(width,height,faces):\n",
    "    return TOP([TOP([cyl(width,height,faces),cyl(width*1.1,height/10,faces)]),dome(width,height*3,faces)])\n",
    "\n",
    "VIEW(tower(8,15,8))"
   ]
  },
  {
   "cell_type": "code",
   "execution_count": 4,
   "metadata": {},
   "outputs": [
    {
     "name": "stdout",
     "output_type": "stream",
     "text": [
      "Child 3\n"
     ]
    },
    {
     "data": {
      "text/plain": [
       "<pyplasm.xgepy.Hpc; proxy of <Swig Object of type 'std::shared_ptr< Hpc > *' at 0x000000001185E4B0> >"
      ]
     },
     "execution_count": 4,
     "metadata": {},
     "output_type": "execute_result"
    }
   ],
   "source": [
    "def base(width,height,faces,cubo_width,cubo_height):\n",
    "    tw=tower(width,height,faces)\n",
    "    cubo=CUBOID([cubo_width*4,cubo_width*4,cubo_height])\n",
    "    cubo2=CUBOID([cubo_width*4.1,cubo_width*4.1,cubo_height/10])\n",
    "    return T([1,2])([-cubo_width*2,-cubo_width*2])(TOP([TOP([cubo,cubo2]),tw]))\n",
    "\n",
    "VIEW(base(8,10,8,8,10))"
   ]
  },
  {
   "cell_type": "code",
   "execution_count": 5,
   "metadata": {},
   "outputs": [
    {
     "name": "stdout",
     "output_type": "stream",
     "text": [
      "Child 3\n",
      "Child 3\n"
     ]
    },
    {
     "data": {
      "text/plain": [
       "<pyplasm.xgepy.Hpc; proxy of <Swig Object of type 'std::shared_ptr< Hpc > *' at 0x000000001185EAE0> >"
      ]
     },
     "execution_count": 5,
     "metadata": {},
     "output_type": "execute_result"
    }
   ],
   "source": [
    "def four_couple(width,height,faces):\n",
    "    bs=base(width,height,faces,width,height)\n",
    "    tw=tower(width/2,height/2,faces)\n",
    "    return STRUCT([bs,T([1,2,3])([-width*5/4,-width*5/4,height])(tw),T([1,2,3])([width*5/4,-width*5/4,height])(tw),T([1,2,3])([-width*5/4,width*5/4,height])(tw),T([1,2,3])([width*5/4,width*5/4,height])(tw)])\n",
    "\n",
    "VIEW(four_couple(8,10,8))"
   ]
  },
  {
   "cell_type": "code",
   "execution_count": 8,
   "metadata": {},
   "outputs": [
    {
     "name": "stdout",
     "output_type": "stream",
     "text": [
      "Child 3\n",
      "Child 3\n"
     ]
    },
    {
     "data": {
      "text/plain": [
       "<pyplasm.xgepy.Hpc; proxy of <Swig Object of type 'std::shared_ptr< Hpc > *' at 0x0000000011A27450> >"
      ]
     },
     "execution_count": 8,
     "metadata": {},
     "output_type": "execute_result"
    }
   ],
   "source": [
    "def curch(width,height,faces):\n",
    "    bs=base(width,height,faces,width/1.8,height*2)\n",
    "    tw=tower(width*0.8,height,faces)\n",
    "    return STRUCT([bs,T(1)(width*1.2)(tw),T(2)(width*1.2)(tw),T(1)(-width*1.2)(tw),T(2)(-width*1.2)(tw)])\n",
    "\n",
    "VIEW(curch(8,10,8))"
   ]
  },
  {
   "cell_type": "code",
   "execution_count": 33,
   "metadata": {},
   "outputs": [
    {
     "name": "stdout",
     "output_type": "stream",
     "text": [
      "Child 3\n",
      "Child 3\n",
      "Child 3\n",
      "Child 3\n"
     ]
    },
    {
     "data": {
      "text/plain": [
       "<pyplasm.xgepy.Hpc; proxy of <Swig Object of type 'std::shared_ptr< Hpc > *' at 0x00000000119DE150> >"
      ]
     },
     "execution_count": 33,
     "metadata": {},
     "output_type": "execute_result"
    }
   ],
   "source": [
    "def four_curch(width,height,faces):\n",
    "    bs=four_couple(width,height,faces)\n",
    "    ch=curch(width/2,height/3,faces)\n",
    "    return STRUCT([bs,T(1)(width*2.4)(ch),T(2)(width*2.4)(ch),T(1)(-width*2.4)(ch),T(2)(-width*2.4)(ch),T([1,2])([-width*5,-width*5])(CUBOID([width*10,width*10,0.4]))])\n",
    "\n",
    "VIEW(COLOR(BROWN)(four_curch(20,40,8)))"
   ]
  },
  {
   "cell_type": "code",
   "execution_count": null,
   "metadata": {
    "collapsed": true
   },
   "outputs": [],
   "source": []
  }
 ],
 "metadata": {
  "kernelspec": {
   "display_name": "Python 2",
   "language": "python",
   "name": "python2"
  },
  "language_info": {
   "codemirror_mode": {
    "name": "ipython",
    "version": 2
   },
   "file_extension": ".py",
   "mimetype": "text/x-python",
   "name": "python",
   "nbconvert_exporter": "python",
   "pygments_lexer": "ipython2",
   "version": "2.7.13"
  }
 },
 "nbformat": 4,
 "nbformat_minor": 2
}
