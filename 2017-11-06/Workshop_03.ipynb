{
 "cells": [
  {
   "cell_type": "code",
   "execution_count": 1,
   "metadata": {},
   "outputs": [
    {
     "name": "stdout",
     "output_type": "stream",
     "text": [
      "Evaluating fenvs.py..\n",
      "...fenvs.py imported in 0.0227563726995 seconds\n"
     ]
    },
    {
     "name": "stderr",
     "output_type": "stream",
     "text": [
      "C:\\Program Files\\Anaconda2\\lib\\site-packages\\larlib\\larstruct.py:233: FutureWarning: comparison to `None` will result in an elementwise object comparison in the future.\n",
      "  self.body = [item for item in data if item != None]\n"
     ]
    },
    {
     "data": {
      "text/plain": [
       "<pyplasm.xgepy.Hpc; proxy of <Swig Object of type 'std::shared_ptr< Hpc > *' at 0x0000000006844480> >"
      ]
     },
     "execution_count": 1,
     "metadata": {},
     "output_type": "execute_result"
    }
   ],
   "source": [
    "from pyplasm import *\n",
    "from larlib import *\n",
    "\n",
    "def cyl(width,height,faces):\n",
    "    return JOIN(CYLINDER([width,height])(faces))\n",
    "\n",
    "VIEW(cyl(8,15,8))\n"
   ]
  },
  {
   "cell_type": "code",
   "execution_count": 2,
   "metadata": {},
   "outputs": [
    {
     "name": "stdout",
     "output_type": "stream",
     "text": [
      "Child 3\n"
     ]
    },
    {
     "data": {
      "text/plain": [
       "<pyplasm.xgepy.Hpc; proxy of <Swig Object of type 'std::shared_ptr< Hpc > *' at 0x00000000118C6D50> >"
      ]
     },
     "execution_count": 2,
     "metadata": {},
     "output_type": "execute_result"
    }
   ],
   "source": [
    "def dome(x,y,z):\n",
    "    spher=JOIN(SPHERE(x)([y,z]))\n",
    "    cubo=T([1,2])([-x,-x])(CUBOID([x*3,x*3,x*3]))\n",
    "    dom=INTERSECTION([cubo,spher])\n",
    "    return dom\n",
    "\n",
    "VIEW(dome(8,15,8))"
   ]
  },
  {
   "cell_type": "code",
   "execution_count": 3,
   "metadata": {},
   "outputs": [
    {
     "name": "stdout",
     "output_type": "stream",
     "text": [
      "Child 3\n"
     ]
    },
    {
     "data": {
      "text/plain": [
       "<pyplasm.xgepy.Hpc; proxy of <Swig Object of type 'std::shared_ptr< Hpc > *' at 0x000000001199C390> >"
      ]
     },
     "execution_count": 3,
     "metadata": {},
     "output_type": "execute_result"
    }
   ],
   "source": [
    "def tower(width,height,faces):\n",
    "    return TOP([TOP([cyl(width,height,faces),cyl(width*1.1,height/10,faces)]),dome(width,height*3,faces)])\n",
    "\n",
    "VIEW(tower(8,15,8))"
   ]
  },
  {
   "cell_type": "code",
   "execution_count": 4,
   "metadata": {},
   "outputs": [
    {
     "name": "stdout",
     "output_type": "stream",
     "text": [
      "Child 3\n"
     ]
    },
    {
     "data": {
      "text/plain": [
       "<pyplasm.xgepy.Hpc; proxy of <Swig Object of type 'std::shared_ptr< Hpc > *' at 0x000000001199C570> >"
      ]
     },
     "execution_count": 4,
     "metadata": {},
     "output_type": "execute_result"
    }
   ],
   "source": [
    "def base(width,height,faces,cubo_width,cubo_height):\n",
    "    tw=tower(width,height,faces)\n",
    "    cubo=CUBOID([cubo_width*4,cubo_width*4,cubo_height])\n",
    "    cubo2=CUBOID([cubo_width*4.1,cubo_width*4.1,cubo_height/10])\n",
    "    return T([1,2])([-cubo_width*2,-cubo_width*2])(TOP([TOP([cubo,cubo2]),tw]))\n",
    "\n",
    "VIEW(base(8,10,8,8,10))"
   ]
  },
  {
   "cell_type": "code",
   "execution_count": 5,
   "metadata": {},
   "outputs": [
    {
     "name": "stdout",
     "output_type": "stream",
     "text": [
      "Child 3\n",
      "Child 3\n"
     ]
    },
    {
     "data": {
      "text/plain": [
       "<pyplasm.xgepy.Hpc; proxy of <Swig Object of type 'std::shared_ptr< Hpc > *' at 0x00000000118C6CC0> >"
      ]
     },
     "execution_count": 5,
     "metadata": {},
     "output_type": "execute_result"
    }
   ],
   "source": [
    "def four_couple(width,height,faces):\n",
    "    bs=base(width,height,faces,width,height)\n",
    "    tw=tower(width/2,height/2,faces)\n",
    "    return STRUCT([bs,T([1,2,3])([-width*5/4,-width*5/4,height])(tw),T([1,2,3])([width*5/4,-width*5/4,height])(tw),T([1,2,3])([-width*5/4,width*5/4,height])(tw),T([1,2,3])([width*5/4,width*5/4,height])(tw)])\n",
    "\n",
    "VIEW(four_couple(8,10,8))"
   ]
  },
  {
   "cell_type": "code",
   "execution_count": 6,
   "metadata": {},
   "outputs": [
    {
     "name": "stdout",
     "output_type": "stream",
     "text": [
      "Child 3\n",
      "Child 3\n"
     ]
    },
    {
     "data": {
      "text/plain": [
       "<pyplasm.xgepy.Hpc; proxy of <Swig Object of type 'std::shared_ptr< Hpc > *' at 0x000000001199CCF0> >"
      ]
     },
     "execution_count": 6,
     "metadata": {},
     "output_type": "execute_result"
    }
   ],
   "source": [
    "def curch(width,height,faces):\n",
    "    bs=base(width,height,faces,width/1.8,height*2)\n",
    "    tw=tower(width*0.8,height,faces)\n",
    "    return STRUCT([bs,T(1)(width*1.2)(tw),T(2)(width*1.2)(tw),T(1)(-width*1.2)(tw),T(2)(-width*1.2)(tw)])\n",
    "\n",
    "VIEW(curch(8,10,8))"
   ]
  },
  {
   "cell_type": "code",
   "execution_count": 7,
   "metadata": {},
   "outputs": [
    {
     "name": "stdout",
     "output_type": "stream",
     "text": [
      "Child 3\n",
      "Child 3\n",
      "Child 3\n",
      "Child 3\n"
     ]
    },
    {
     "data": {
      "text/plain": [
       "<pyplasm.xgepy.Hpc; proxy of <Swig Object of type 'std::shared_ptr< Hpc > *' at 0x000000001199C150> >"
      ]
     },
     "execution_count": 7,
     "metadata": {},
     "output_type": "execute_result"
    }
   ],
   "source": [
    "def four_curch(width,height,faces):\n",
    "    bs=four_couple(width,height,faces)\n",
    "    ch=curch(width/2,height/3,faces)\n",
    "    return STRUCT([bs,T(1)(width*2.4)(ch),T(2)(width*2.4)(ch),T(1)(-width*2.4)(ch),T(2)(-width*2.4)(ch),T([1,2])([-width*5,-width*5])(CUBOID([width*10,width*10,0.4]))])\n",
    "\n",
    "VIEW(COLOR(BROWN)(four_curch(20,40,8)))"
   ]
  },
  {
   "cell_type": "code",
   "execution_count": null,
   "metadata": {
    "collapsed": true
   },
   "outputs": [],
   "source": []
  }
 ],
 "metadata": {
  "kernelspec": {
   "display_name": "Python 2",
   "language": "python",
   "name": "python2"
  },
  "language_info": {
   "codemirror_mode": {
    "name": "ipython",
    "version": 2
   },
   "file_extension": ".py",
   "mimetype": "text/x-python",
   "name": "python",
   "nbconvert_exporter": "python",
   "pygments_lexer": "ipython2",
   "version": "2.7.13"
  }
 },
 "nbformat": 4,
 "nbformat_minor": 2
}
