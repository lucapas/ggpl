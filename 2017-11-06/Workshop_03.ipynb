{
 "cells": [
  {
   "cell_type": "markdown",
   "metadata": {},
   "source": [
    "# Leonardo Opera\n",
    "\n",
    "Il lavoro svolto riguarda la modellazione di un opera di Leonardo da Vinci. <br /> E' stato preso spunto dall'immagine seguente.\n",
    "![Cattura.PNG](image/Cattura.PNG) <br />\n",
    "\n"
   ]
  },
  {
   "attachments": {},
   "cell_type": "markdown",
   "metadata": {},
   "source": [
    "### Le Variabili\n",
    "\n",
    "le variabili utilizzate sono: <br />\n",
    "- width che indica la larghezza della struttura\n",
    "- height che indica l'altezza della struttura"
   ]
  },
  {
   "cell_type": "markdown",
   "metadata": {},
   "source": [
    "## cyl\n",
    "\n",
    "il metodo cyle prende come parametri due variabili la larghezza e l'altezza e crea un cilindro solido con 8 facce"
   ]
  },
  {
   "cell_type": "code",
   "execution_count": 121,
   "metadata": {},
   "outputs": [
    {
     "data": {
      "text/plain": [
       "<pyplasm.xgepy.Hpc; proxy of <Swig Object of type 'std::shared_ptr< Hpc > *' at 0x000000001180A9F0> >"
      ]
     },
     "execution_count": 121,
     "metadata": {},
     "output_type": "execute_result"
    }
   ],
   "source": [
    "from pyplasm import *\n",
    "from larlib import *\n",
    "\n",
    "def cyl(width,height):\n",
    "    return JOIN(CYLINDER([width,height])(8))\n",
    "\n",
    "VIEW(cyl(8,15))"
   ]
  },
  {
   "attachments": {},
   "cell_type": "markdown",
   "metadata": {},
   "source": [
    "![Cattura2.PNG](image/Cattura2.PNG)"
   ]
  },
  {
   "cell_type": "markdown",
   "metadata": {},
   "source": [
    "## dome\n",
    "\n",
    "il metodo dome prende come parametri due variabili la larghezza e l'altezza e crea una mezza sfera solida con 8 facce. <br />\n",
    "creo una sfera, un cubo e attraverso il metodo INTERSECTION taglio la sfera in base alle dimensioni del cubo"
   ]
  },
  {
   "cell_type": "code",
   "execution_count": 122,
   "metadata": {},
   "outputs": [
    {
     "name": "stdout",
     "output_type": "stream",
     "text": [
      "Child 3\n"
     ]
    },
    {
     "data": {
      "text/plain": [
       "<pyplasm.xgepy.Hpc; proxy of <Swig Object of type 'std::shared_ptr< Hpc > *' at 0x00000000119E1360> >"
      ]
     },
     "execution_count": 122,
     "metadata": {},
     "output_type": "execute_result"
    }
   ],
   "source": [
    "def dome(x,y):\n",
    "    spher=JOIN(SPHERE(x)([y,8]))\n",
    "    cubo=T([1,2])([-x,-x])(CUBOID([x*3,x*3,x*3]))\n",
    "    dom=INTERSECTION([cubo,spher])\n",
    "    return dom\n",
    "\n",
    "VIEW(dome(8,15))"
   ]
  },
  {
   "attachments": {},
   "cell_type": "markdown",
   "metadata": {},
   "source": [
    "![Cattura3.PNG](image/Cattura3.PNG)"
   ]
  },
  {
   "cell_type": "markdown",
   "metadata": {},
   "source": [
    "## tower\n",
    "\n",
    "Il metodo dome prende come parametri due variabili la larghezza e l'altezza e crea una torre solida con 8 facce. <br />\n",
    "Chiamo il metodo dome per fare la cappella e lo metto dentro la variabile dm. <br />\n",
    "Chiamo il metodo cyl per fare la colonna e lo metto dentro la variabile cy1. <br />\n",
    "Chiamo il metodo cyl per fare lo strato tra la cappella e la colonna e lo metto dentro la variabile cy2. <br />\n",
    "Faccio il TOP di cy1 e cy2 e il TOP del risultato precedente con dm per fare la torre."
   ]
  },
  {
   "cell_type": "code",
   "execution_count": 123,
   "metadata": {},
   "outputs": [
    {
     "name": "stdout",
     "output_type": "stream",
     "text": [
      "Child 3\n"
     ]
    },
    {
     "data": {
      "text/plain": [
       "<pyplasm.xgepy.Hpc; proxy of <Swig Object of type 'std::shared_ptr< Hpc > *' at 0x00000000119E1CC0> >"
      ]
     },
     "execution_count": 123,
     "metadata": {},
     "output_type": "execute_result"
    }
   ],
   "source": [
    "def tower(width,height):\n",
    "    f=int(width)\n",
    "    dm=dome(width,f*3)\n",
    "    cy1=cyl(width,height/1.8)\n",
    "    cy2=cyl(width*1.1,height/10)\n",
    "    return TOP([TOP([COLOR(RED)(cy1),COLOR(BROWN)(cy2)]),COLOR(RED)(dm)])\n",
    "\n",
    "VIEW(tower(8.2,15))"
   ]
  },
  {
   "cell_type": "code",
   "execution_count": null,
   "metadata": {
    "collapsed": true
   },
   "outputs": [],
   "source": [
    "![Cattura4.PNG](image/Cattura4.PNG)"
   ]
  },
  {
   "cell_type": "markdown",
   "metadata": {},
   "source": [
    "## base\n",
    "\n",
    "Il metodo base prende come parametri quattro variabili la larghezza e l'altezza della torre e la larghezza e l'altezza della base. <br />\n",
    "Crea una base con sopra una torre. <br />\n",
    "Chiamo il metodo tower per fare la torre e lo metto dentro la variabile tw. <br />\n",
    "Chiamo il metodo CUBOID per fare la base e la colonna e lo metto dentro la variabile cubo. <br />\n",
    "Chiamo il metodo CUBOID per fare lo strato tra la torre e il piano e lo metto dentro la variabile cubo2. <br />\n",
    "Faccio il TOP di cubo e cubo2 e il TOP del risultato precedente con tw per fare la base, il tutto lo trasposto per metterlo al centro e questo mi sarà utile per la scelta delle posizioni nei successivi metodi."
   ]
  },
  {
   "cell_type": "code",
   "execution_count": 125,
   "metadata": {},
   "outputs": [
    {
     "name": "stdout",
     "output_type": "stream",
     "text": [
      "Child 3\n"
     ]
    },
    {
     "data": {
      "text/plain": [
       "<pyplasm.xgepy.Hpc; proxy of <Swig Object of type 'std::shared_ptr< Hpc > *' at 0x00000000119E1240> >"
      ]
     },
     "execution_count": 125,
     "metadata": {},
     "output_type": "execute_result"
    }
   ],
   "source": [
    "def base(width,height,cubo_width,cubo_height):\n",
    "    tw=tower(width,height)\n",
    "    cubo=COLOR([1,0.1,0.1])(CUBOID([cubo_width*4,cubo_width*4,cubo_height]))\n",
    "    cubo2=COLOR(BROWN)(CUBOID([cubo_width*4.1,cubo_width*4.1,cubo_height/10]))\n",
    "    return T([1,2])([-cubo_width*2,-cubo_width*2])(TOP([TOP([cubo,cubo2]),tw]))\n",
    "\n",
    "VIEW(base(8,10,8,10))"
   ]
  },
  {
   "attachments": {},
   "cell_type": "markdown",
   "metadata": {},
   "source": [
    "![Cattura5.PNG](image/Cattura5.PNG)"
   ]
  },
  {
   "cell_type": "markdown",
   "metadata": {},
   "source": [
    "## four_couple\n",
    "\n",
    "Il metodo four_couple prende come parametri due variabili la larghezza e l'altezza della struttura <br />\n",
    "Crea la struttura del metodo base con 4 torri intorno. <br />\n",
    "Chiamo il metodo base per fare la struttura di prima e lo metto dentro la variabile bs. <br />\n",
    "Chiamo il metodo tower per fare la torre di grandezza e altezza dimezzate rispetto alla torre principale e lo metto dentro la variabile tw. <br />\n",
    "Faccio la STRUCT con le varie trasposte per mettere tutto in ordine."
   ]
  },
  {
   "cell_type": "code",
   "execution_count": 127,
   "metadata": {},
   "outputs": [
    {
     "name": "stdout",
     "output_type": "stream",
     "text": [
      "Child 3\n",
      "Child 3\n"
     ]
    },
    {
     "data": {
      "text/plain": [
       "<pyplasm.xgepy.Hpc; proxy of <Swig Object of type 'std::shared_ptr< Hpc > *' at 0x00000000119E1C60> >"
      ]
     },
     "execution_count": 127,
     "metadata": {},
     "output_type": "execute_result"
    }
   ],
   "source": [
    "def four_couple(width,height):\n",
    "    bs=base(width,height,width,height)\n",
    "    tw=tower(width/2,height/2)\n",
    "    return STRUCT([bs,T([1,2,3])([-width*5/4,-width*5/4,height])(tw),T([1,2,3])([width*5/4,-width*5/4,height])(tw),T([1,2,3])([-width*5/4,width*5/4,height])(tw),T([1,2,3])([width*5/4,width*5/4,height])(tw)])\n",
    "\n",
    "VIEW(four_couple(10,20))"
   ]
  },
  {
   "attachments": {},
   "cell_type": "markdown",
   "metadata": {},
   "source": [
    "![Cattura6.PNG](image/Cattura6.PNG)"
   ]
  },
  {
   "cell_type": "markdown",
   "metadata": {},
   "source": [
    "## curch\n",
    "\n",
    "Il metodo curch prende come parametri due variabili la larghezza e l'altezza della struttura <br />\n",
    "Crea le piccole strutture intorno alla struttura principale <br />\n",
    "Chiamo il metodo base per fare la struttura con grandezza della base piu piccola e altezza piu alta rispetto alla principale e lo metto dentro la variabile bs. <br />\n",
    "Chiamo il metodo tower per fare le torrette intorno di altezza piu grande rispetto alla torre principale e lo metto dentro la variabile tw. <br />\n",
    "Faccio la STRUCT con le varie trasposte per mettere tutto in ordine."
   ]
  },
  {
   "cell_type": "code",
   "execution_count": 128,
   "metadata": {},
   "outputs": [
    {
     "name": "stdout",
     "output_type": "stream",
     "text": [
      "Child 3\n",
      "Child 3\n"
     ]
    },
    {
     "data": {
      "text/plain": [
       "<pyplasm.xgepy.Hpc; proxy of <Swig Object of type 'std::shared_ptr< Hpc > *' at 0x00000000119E1120> >"
      ]
     },
     "execution_count": 128,
     "metadata": {},
     "output_type": "execute_result"
    }
   ],
   "source": [
    "def curch(width,height):\n",
    "    bs=base(width,height,width/1.8,height*2.5)\n",
    "    tw=tower(width*0.8,height*2.4)\n",
    "    return STRUCT([bs,T(1)(width*1.2)(tw),T(2)(width*1.2)(tw),T(1)(-width*1.2)(tw),T(2)(-width*1.2)(tw)])\n",
    "\n",
    "VIEW(curch(8,10))"
   ]
  },
  {
   "attachments": {},
   "cell_type": "markdown",
   "metadata": {},
   "source": [
    "![Cattura7.PNG](image/Cattura7.PNG)"
   ]
  },
  {
   "cell_type": "markdown",
   "metadata": {},
   "source": [
    "## ggpl_leonardo_opera\n",
    "\n",
    "Il metodo ggpl_leonardo_opera prende come parametri due variabili la larghezza e l'altezza della struttura <br />\n",
    "Crea la struttura principale <br />\n",
    "Chiamo il metodo four_couple per fare la struttura principale e lo metto dentro la variabile bs. <br />\n",
    "Chiamo il metodo curch per fare le piccole strutture intorno di altezza diminuita di 1/3 e larghezza dimezzata rispetto alla struttura principale e lo metto dentro la variabile ch. <br />\n",
    "Faccio la STRUCT con le varie trasposte per mettere tutto in ordine."
   ]
  },
  {
   "cell_type": "code",
   "execution_count": 130,
   "metadata": {},
   "outputs": [
    {
     "name": "stdout",
     "output_type": "stream",
     "text": [
      "Child 3\n",
      "Child 3\n",
      "Child 3\n",
      "Child 3\n"
     ]
    },
    {
     "data": {
      "text/plain": [
       "<pyplasm.xgepy.Hpc; proxy of <Swig Object of type 'std::shared_ptr< Hpc > *' at 0x00000000119E13C0> >"
      ]
     },
     "execution_count": 130,
     "metadata": {},
     "output_type": "execute_result"
    }
   ],
   "source": [
    "def ggpl_leonardo_opera(width,height):\n",
    "    bs=four_couple(width,height)\n",
    "    ch=curch(width/2,height/3)\n",
    "    return STRUCT([bs,T(1)(width*2.4)(ch),T(2)(width*2.4)(ch),T(1)(-width*2.4)(ch),T(2)(-width*2.4)(ch),T([1,2])([-width*5,-width*5])(COLOR(BROWN)(CUBOID([width*10,width*10,0.4])))])\n",
    "\n",
    "# E' consigliato mettere dimensione 20x40 per avere una struttura bene dimensionata. Il cambio di queste due variabili influenza l'altezza e la larghezza della struttura\n",
    "VIEW(ggpl_leonardo_opera(20,40))"
   ]
  },
  {
   "attachments": {},
   "cell_type": "markdown",
   "metadata": {
    "collapsed": true
   },
   "source": [
    "![Cattura8.PNG](image/Cattura8.PNG)"
   ]
  },
  {
   "cell_type": "code",
   "execution_count": null,
   "metadata": {
    "collapsed": true
   },
   "outputs": [],
   "source": []
  }
 ],
 "metadata": {
  "kernelspec": {
   "display_name": "Python 2",
   "language": "python",
   "name": "python2"
  },
  "language_info": {
   "codemirror_mode": {
    "name": "ipython",
    "version": 2
   },
   "file_extension": ".py",
   "mimetype": "text/x-python",
   "name": "python",
   "nbconvert_exporter": "python",
   "pygments_lexer": "ipython2",
   "version": "2.7.13"
  }
 },
 "nbformat": 4,
 "nbformat_minor": 2
}
