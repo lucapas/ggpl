{
 "cells": [
  {
   "cell_type": "code",
   "execution_count": null,
   "metadata": {
    "collapsed": true
   },
   "outputs": [],
   "source": [
    "# global function\n",
    "\n",
    "DEF global (p1::IsType1; p2::IsType2) (q1,q2::IsType3) = Body\n",
    "WHERE\n",
    "local1 = body1,\n",
    "local2 = body2\n",
    "WHERE local21 = body21 END\n",
    "END;\n"
   ]
  },
  {
   "cell_type": "code",
   "execution_count": 1,
   "metadata": {
    "collapsed": true
   },
   "outputs": [],
   "source": [
    "def name(p1,p2):\n",
    "    local1 = body1\n",
    "    local2 = body2\n",
    "    def name1(q1,q2):\n",
    "        local21 = body21\n",
    "        return Body\n",
    "    return name1\n",
    "    "
   ]
  },
  {
   "cell_type": "code",
   "execution_count": 5,
   "metadata": {},
   "outputs": [
    {
     "name": "stdout",
     "output_type": "stream",
     "text": [
      "Evaluating fenvs.py..\n",
      "...fenvs.py imported in 0.00630703832633 seconds\n"
     ]
    }
   ],
   "source": [
    "#table model\n",
    "DEF Leg = CUBOID:< 0.1,0.1,0.7 >;\n",
    "DEF Plane = CUBOID:< 1, 1, 0.2>;\n",
    "DEF Table = STRUCT:<\n",
    "Leg, T:1:0.9, Leg, T:2:0.9, Leg, T:1:-0.9, Leg,\n",
    "T:<2,3>:<-0.9,0.7>, Plane >;\n",
    "DEF Table1 = STRUCT:<\n",
    "Leg, T:1:0.9:Leg, T:<1,2>:<0.9,0.9>:Leg, T:2:0.9:Leg,\n",
    "T:3:0.7:Plane >;\n",
    "VRML: Table:'out.wrl';"
   ]
  },
  {
   "cell_type": "code",
   "execution_count": 50,
   "metadata": {},
   "outputs": [
    {
     "data": {
      "text/plain": [
       "<pyplasm.xgepy.Hpc; proxy of <Swig Object of type 'std::shared_ptr< Hpc > *' at 0x00000000122AEDB0> >"
      ]
     },
     "execution_count": 50,
     "metadata": {},
     "output_type": "execute_result"
    }
   ],
   "source": [
    "from pyplasm import *\n",
    "from larlib import *\n",
    "leg= CUBOID([0.1,0.1,0.7])\n",
    "plane= CUBOID([1,1,0.2])\n",
    "table= STRUCT([leg,T(1)(0.9)(leg),T([1,2])([0.9,-0.9])(leg),T(2)(-0.9)(leg),T([2,3])([-0.9,0.7])(plane)])\n",
    "VIEW(table)"
   ]
  },
  {
   "cell_type": "code",
   "execution_count": null,
   "metadata": {
    "collapsed": true
   },
   "outputs": [],
   "source": [
    "from pyplasm import *\n",
    "from larlib import *\n",
    "leg= CUBOID([0.1,0.1,0.7])\n",
    "plane= CUBOID([1,1,0.2])\n",
    "table= STRUCT([leg,T(1)(0.9)(leg),T([1,2])([0.9,0.9])(leg),T(2)(0.9)(leg),T(3)(0.7)(plane)])\n",
    "VIEW(table)"
   ]
  },
  {
   "cell_type": "code",
   "execution_count": null,
   "metadata": {
    "collapsed": true
   },
   "outputs": [],
   "source": [
    "#Intersection of extrusions operator\n",
    "DEF Q = QUOTE ∼ IF:< IsSeQ, ID, [ID] >\n",
    "DEF plan = STRUCT:< Q:<4,-2,4> * Q:<4,4>, T:<1,2>:<4,1>, Q:2 * Q:<2,4,2> >;\n",
    "DEF section = MKPOL:<<<0,0>,<10,0>,<10,3>,<5,4.5>,<0,3>>,<1..5>,<<1>>>;\n",
    "DEF House = @2:(plan (<1,2,0> && <1,0,2>) section)\n",
    "DEF Block = @2:(plan * Q:<3,3,3>)\n",
    "#@schel 1 @2 schel 2"
   ]
  },
  {
   "cell_type": "code",
   "execution_count": null,
   "metadata": {
    "collapsed": true
   },
   "outputs": [],
   "source": [
    "def Q(x):\n",
    "    if isinstance(x,list): return QUOTE(x)\n",
    "    else : return x\n",
    "    \n",
    "PROD([QUOTE([1]),QUOTE([2])]);\n"
   ]
  },
  {
   "cell_type": "code",
   "execution_count": 30,
   "metadata": {},
   "outputs": [
    {
     "data": {
      "text/plain": [
       "<pyplasm.xgepy.Hpc; proxy of <Swig Object of type 'std::shared_ptr< Hpc > *' at 0x00000000047BF9F0> >"
      ]
     },
     "execution_count": 30,
     "metadata": {},
     "output_type": "execute_result"
    }
   ],
   "source": [
    "plan = STRUCT([PROD([QUOTE([4,-2,4]),QUOTE([4,4])]), T([1,2])([4,1])(PROD([QUOTE([2]),QUOTE([2,4,2])]))])\n",
    "section = MKPOLS([[[0,0],[10,0],[10,3],[5,4.5],[0,3]],[[1,2,3],[1]]])\n",
    "VIEW(SKEL_2(PROD([plan,QUOTE([3,3,3])])))"
   ]
  },
  {
   "cell_type": "code",
   "execution_count": null,
   "metadata": {
    "collapsed": true
   },
   "outputs": [],
   "source": [
    "#Boolean operations between cubes\n",
    "DEF a = T:<1,2>:<-0.5,-0.5>:(CUBOID:<1,1,1>);\n",
    "DEF b = R:<1,2>:(PI/4):a;\n",
    "STRUCT:< a + b, T:1:2, a & b, T:1:2, a ∧ b, T:1:2, a - b >;"
   ]
  },
  {
   "cell_type": "code",
   "execution_count": 64,
   "metadata": {},
   "outputs": [
    {
     "data": {
      "text/plain": [
       "<pyplasm.xgepy.Hpc; proxy of <Swig Object of type 'std::shared_ptr< Hpc > *' at 0x00000000122BF720> >"
      ]
     },
     "execution_count": 64,
     "metadata": {},
     "output_type": "execute_result"
    }
   ],
   "source": [
    "a=T([1,2])([-0.5,-0.5])(CUBOID([1,1,1]))\n",
    "b=R([1,2])(PI/4)(a)\n",
    "VIEW(STRUCT([SUM([a,b]),T(1)(2)(INTERSECTION([a,b])),T(1)(4)(XOR([a,b])),T(1)(6)(DIFFERENCE([a,b]))]))\n"
   ]
  },
  {
   "cell_type": "code",
   "execution_count": null,
   "metadata": {
    "collapsed": true
   },
   "outputs": [],
   "source": [
    "#Table model\n",
    "DEF legs = Q:< 0.1,-0.8,0.1 > * Q:< 0.1,-0.8,0.1 > * Q:0.7;\n",
    "DEF plane = Q:1 * Q:1 * Q:0.2;\n",
    "DEF table = Legs TOP Plane;\n",
    "DEF chair = S:<1,2,3>:<0.4,0.4,0.5>:Table;\n",
    "DEF assembly = chair RIGHT table RIGHT chair UP chair DOWN chair\n",
    "VRML:assembly:'out.wrl'"
   ]
  },
  {
   "cell_type": "code",
   "execution_count": 112,
   "metadata": {},
   "outputs": [
    {
     "data": {
      "text/plain": [
       "<pyplasm.xgepy.Hpc; proxy of <Swig Object of type 'std::shared_ptr< Hpc > *' at 0x0000000012304450> >"
      ]
     },
     "execution_count": 112,
     "metadata": {},
     "output_type": "execute_result"
    }
   ],
   "source": [
    "legs=PROD([PROD([QUOTE([0.1,-0.8,0.1]),QUOTE([0.1,-0.8,0.1])]),QUOTE([0.7])])\n",
    "plane=PROD([PROD([QUOTE([1]),QUOTE([1])]),QUOTE([0.2])])\n",
    "table=TOP([legs,plane])\n",
    "chair=S([1,2,3])([0.4,0.4,0.5])(table)\n",
    "assembly=DOWN([UP([LEFT([RIGHT([table,chair]),chair]),chair]),chair])\n",
    "VIEW(assembly)"
   ]
  },
  {
   "cell_type": "code",
   "execution_count": null,
   "metadata": {
    "collapsed": true
   },
   "outputs": [],
   "source": [
    "#Circle\n",
    "DEF Circle (r::IsReal)(n,m::IsIntPos) = MAP:\n",
    "<S2 * COS ∼ S1, S2 * SIN ∼ S1>:(Intervals:(2*PI):n * Intervals:r:m);\n",
    "    \n",
    "DEF c1 = circle:1:<48,1> ACOLOR rgbacolor:<0,1,0,1>;\n",
    "DEF c2 = circle:0.7:<48,1> ACOLOR rgbacolor:<1,1,1,1>;\n",
    "DEF c3 = circle:0.4:<48,1> ACOLOR rgbacolor:<1,0,0,1>;\n",
    "DEF out = STRUCT:< c1, c2, c3 >;"
   ]
  },
  {
   "cell_type": "code",
   "execution_count": 148,
   "metadata": {
    "collapsed": true
   },
   "outputs": [],
   "source": [
    "def CIRCLE(R):\n",
    "    def CIRCLE0(subs):\n",
    "        N,M=subs\n",
    "        domain=POWER([INTERVALS(2*PI)(N),INTERVALS(R)(M)])\n",
    "        fun=lambda p:[p[1]*math.cos(p[0]),p[1]*math.sin(p[0])]\n",
    "        return MAP(fun)(domain)\n",
    "    return CIRCLE0\n",
    "if __name__ == \"__main__\": \n",
    "    assert Plasm.limits(CIRCLE(1.0)([8,8]))==Boxf(Vecf(1,-1,-1),Vecf(1,+1,+1))"
   ]
  },
  {
   "cell_type": "code",
   "execution_count": 161,
   "metadata": {},
   "outputs": [
    {
     "data": {
      "text/plain": [
       "<pyplasm.xgepy.Hpc; proxy of <Swig Object of type 'std::shared_ptr< Hpc > *' at 0x00000000122BB900> >"
      ]
     },
     "execution_count": 161,
     "metadata": {},
     "output_type": "execute_result"
    }
   ],
   "source": [
    "from pyplasm import *\n",
    "from larlib import *\n",
    "c1=COLOR(GREEN)(CIRCLE(1)([48,1]))\n",
    "c2=COLOR(WHITE)(CIRCLE(0.7)([48,1]))\n",
    "c3=COLOR(RED)(CIRCLE(0.4)([48,1]))\n",
    "VIEW(STRUCT([c1,c2,c3]))"
   ]
  },
  {
   "cell_type": "code",
   "execution_count": null,
   "metadata": {
    "collapsed": true
   },
   "outputs": [],
   "source": []
  }
 ],
 "metadata": {
  "kernelspec": {
   "display_name": "Python 2",
   "language": "python",
   "name": "python2"
  },
  "language_info": {
   "codemirror_mode": {
    "name": "ipython",
    "version": 2
   },
   "file_extension": ".py",
   "mimetype": "text/x-python",
   "name": "python",
   "nbconvert_exporter": "python",
   "pygments_lexer": "ipython2",
   "version": "2.7.13"
  }
 },
 "nbformat": 4,
 "nbformat_minor": 2
}
