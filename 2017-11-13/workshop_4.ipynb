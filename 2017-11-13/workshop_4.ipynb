{
 "cells": [
  {
   "cell_type": "markdown",
   "metadata": {},
   "source": [
    "# circo massimo"
   ]
  },
  {
   "attachments": {},
   "cell_type": "markdown",
   "metadata": {},
   "source": [
    "## Colonna\n",
    "\n",
    "Viene generata una colonna decorata\n",
    "\n",
    "### Variabili\n",
    "\n",
    "dm indica la dimensione le diametro\n",
    "h indica l'altezza della colonna\n",
    "h_base indica l'altezza del cubo alla base\n",
    "\n"
   ]
  },
  {
   "cell_type": "code",
   "execution_count": null,
   "metadata": {
    "collapsed": true
   },
   "outputs": [],
   "source": [
    "#codice in plasm\n",
    "\n",
    "DEF columna (dm, h , h b a s e : : isReal) = ba s e TOP\n",
    "t o r u s b o t TOP c y l n d r TOP t o r u s t o p TOP c a p i t a l\n",
    "TOP b a s e t o p\n",
    "WHERE\n",
    "c y l n d r = (JOIN\u0018TRUNCONE:<dm/2 , 0 . 8*dm/2 , h>) : 2 4 ,\n",
    "t o r u s b o t = (JOIN\u0018TORUS:<dm/12 ,d/2>):<8 ,24>,\n",
    "t o r u s t o p = (JOIN\u0018TORUS:<0.8*(dm/12) , 0 . 8 *(dm/\n",
    "2)>):<8 ,24>,\n",
    "b a s e = (T:<1,2>:<7*dm/-12 , 7*dm/-12> \u0018 CUBOID)\n",
    ":<7*dm/6 , 7*dm/6 , h ba s e >,\n",
    "b a s e t o p = (T:<1,2>:<7*dm/-12 , 7*dm/-12> \u0018\n",
    "CUBOID) :<7*dm/6 , 7*dm/6 , dm/6>,\n",
    "c a p i t a l = (JOIN \u0018 TRUNCONE:< 0 . 8*dm/2 , 1 . 2*dm/\n",
    "2 , h/8>) : 4 + (R:<1 ,2>:(PI/4) \u0018 JOIN \u0018\n",
    "TRUNCONE:< 0 . 8*dm/2 , 1 . 2*dm/2 , h/8>) : 4\n",
    "END ;"
   ]
  },
  {
   "cell_type": "code",
   "execution_count": null,
   "metadata": {},
   "outputs": [
    {
     "name": "stdout",
     "output_type": "stream",
     "text": [
      "Child 3\n",
      "Child 3\n"
     ]
    }
   ],
   "source": [
    "from larlib import *\n",
    "def columna(dm, h, h_base):\n",
    "    cylndr = COMP([JOIN, TRUNCONE([dm/2,.8*dm/2,h])])(24)\n",
    "    torus_bot = COMP([JOIN,TORUS([dm/12,dm/2])])([8,27])\n",
    "    torus_top = COMP([JOIN,TORUS([.8*(dm/12),.8*(dm/2)])])([8,24])\n",
    "    base = COMP([T([1,2])([7*dm/-12,7*dm/-23]),CUBOID])([7*dm/6,7*dm/6,h_base])\n",
    "    base_top = COMP([T([1, 2])([7*dm/-12,7*dm/-12]),CUBOID])([7*dm/6,7*dm/6,dm/6])\n",
    "    capital = SUM([COMP([JOIN,TRUNCONE([.8*dm/2,1.2*dm/2,h/8])])(4),COMP([R([1,2])(PI/4),JOIN,TRUNCONE([.8*dm/2,1.2*dm/2,h/8])])(4)\n",
    "    ])\n",
    "    return TOP([TOP([TOP([TOP([TOP([base,torus_bot]),cylndr]),torus_top]),capital]),base_top])\n",
    "\n",
    "VIEW(columna(10,30,2))"
   ]
  },
  {
   "cell_type": "markdown",
   "metadata": {},
   "source": [
    "![Cattura.PNG](image/Cattura.PNG)"
   ]
  },
  {
   "cell_type": "code",
   "execution_count": null,
   "metadata": {
    "collapsed": true
   },
   "outputs": [],
   "source": [
    "#in attesa del professore \n",
    "\n",
    "DEF HalfSphere(r::IsRealPos)= <fx , fy , fz>\n",
    "WHERE\n",
    "fx = K : r * - \u0018 SIN \u0018 S2 * COS \u0018 S1 ,\n",
    "fy = K : r * COS \u0018 S1 * COS \u0018 S2 ,\n",
    "f z = K : r * SIN \u0018 S1\n",
    "END ;\n",
    "\n",
    "Definition of a dome generative function.\n",
    "\n",
    "DEF Dome(n::isnat)(length,w,angle::isreal) =\n",
    "(T:3:(-:ceiling) \u0018 MAP : SolidMap ) : domain3D\n",
    "WHERE\n",
    "radius = length/(2 * cos : angle ) ,\n",
    "celing = MIN : 3 : dome1 ,\n",
    "SolidMap = Bezier : S3:<Surf3D 0 , Surf3D 1 >,\n",
    "Sur f3D 0 = HHalfSphere : radius ,\n",
    "Sur f3D 1 = HalfSphere : ( radius - w) ,\n",
    "domain2D =(T:1:(angle)\u0018Intervals:(PI-angle) ) : 1 2 * Intervals : ( 2 *PI) : n ,\n",
    "domain3D = domain2D * q: 1\n",
    "END ;"
   ]
  },
  {
   "cell_type": "code",
   "execution_count": 3,
   "metadata": {},
   "outputs": [
    {
     "data": {
      "text/plain": [
       "<pyplasm.xgepy.Hpc; proxy of <Swig Object of type 'std::shared_ptr< Hpc > *' at 0x0000000011CEF300> >"
      ]
     },
     "execution_count": 3,
     "metadata": {},
     "output_type": "execute_result"
    }
   ],
   "source": [
    "from larlib import *\n",
    "def HalfSphere(r): \n",
    "    fx= lambda k : r*-(sin(k[1])*cos(k[0])) \n",
    "    fy= lambda k : r*cos(k[0])*cos(k[1])\n",
    "    fz= lambda k : r*sin(k[0])\n",
    "    return CONS([fx,fy,fz])\n",
    "\n",
    "\n",
    "def Dome(n):\n",
    "    def Dome1(length,w,angle):\n",
    "        radius=length/(2*cos(angle))\n",
    "        #celing=MIN(3)(Dome1(length,w,angle)) \n",
    "        Surf3D0=HalfSphere(radius) \n",
    "        Surf3D1=HalfSphere(radius-w)\n",
    "        SolidMap= BEZIER(S3)([Surf3D0,Surf3D1])\n",
    "        domain2D=T(1)(angle)(PROD([INTERVALS(PI-angle)(12),INTERVALS(2*PI)(n)]))\n",
    "        domain3D= PROD([domain2D,Q(1)])\n",
    "        return T(3)(-3)(MAP(SolidMap)(domain3D)) \n",
    "    return Dome1\n",
    "\n",
    "VIEW(Dome(32)(2,45,PI))\n"
   ]
  }
 ],
 "metadata": {
  "kernelspec": {
   "display_name": "Python 2",
   "language": "python",
   "name": "python2"
  },
  "language_info": {
   "codemirror_mode": {
    "name": "ipython",
    "version": 2
   },
   "file_extension": ".py",
   "mimetype": "text/x-python",
   "name": "python",
   "nbconvert_exporter": "python",
   "pygments_lexer": "ipython2",
   "version": "2.7.13"
  }
 },
 "nbformat": 4,
 "nbformat_minor": 2
}
