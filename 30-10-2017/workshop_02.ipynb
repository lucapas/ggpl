{
 "cells": [
  {
   "cell_type": "code",
   "execution_count": 55,
   "metadata": {},
   "outputs": [
    {
     "data": {
      "text/plain": [
       "<pyplasm.xgepy.Hpc; proxy of <Swig Object of type 'std::shared_ptr< Hpc > *' at 0x000000001235B0C0> >"
      ]
     },
     "execution_count": 55,
     "metadata": {},
     "output_type": "execute_result"
    }
   ],
   "source": [
    "#simple librery\n",
    "\n",
    "from pyplasm import *\n",
    "from larlib import *\n",
    "\n",
    "def tile(x,y,z):\n",
    "    return PROD([PROD([QUOTE([x]),QUOTE([y])]),QUOTE([z])])\n",
    "  \n",
    "shelf=STRUCT([tile(1,1,0.05),tile(1,0.05,1),tile(0.05,1,1),T(1)(0.95)(tile(0.05,1,1)),T(3)(0.95)(tile(1,1,0.05))])\n",
    "shelf_list_up=STRUCT(NN(7)([shelf,T(3)(1)]))\n",
    "library=RIGHT([RIGHT([shelf_list_up,shelf_list_up]),shelf_list_up])\n",
    "plane=tile(1,1,0.2)\n",
    "plane3=RIGHT([RIGHT([plane,plane]),plane])\n",
    "VIEW(STRUCT([plane3,T(3)(0.2)(library)]))"
   ]
  },
  {
   "cell_type": "markdown",
   "metadata": {},
   "source": [
    "![Cattura.PNG](image\\Cattura.PNG)"
   ]
  },
  {
   "cell_type": "code",
   "execution_count": 124,
   "metadata": {},
   "outputs": [
    {
     "data": {
      "text/plain": [
       "<pyplasm.xgepy.Hpc; proxy of <Swig Object of type 'std::shared_ptr< Hpc > *' at 0x0000000012359B70> >"
      ]
     },
     "execution_count": 124,
     "metadata": {},
     "output_type": "execute_result"
    }
   ],
   "source": [
    "from pyplasm import *\n",
    "from larlib import *\n",
    "def tile(x,y,z):\n",
    "    return PROD([PROD([QUOTE([x]),QUOTE([y])]),QUOTE([z])])\n",
    "\n",
    "shelf=COLOR(BROWN)(STRUCT([tile(1,1,0.05),tile(1,0.05,1),tile(0.01,1,1),T(1)(0.99)(tile(0.01,1,1)),T(3)(0.95)(tile(1,1,0.05))]))\n",
    "shelf_center=COLOR(BROWN)(S(1)(1.5)(shelf))\n",
    "shelf__center_list_up=STRUCT(NN(7)([shelf_center,T(3)(1)]))\n",
    "\n",
    "shelf_lateral=COLOR(BROWN)(S(1)(4)(shelf))\n",
    "shelf__lateral_list_up=STRUCT(NN(7)([shelf_lateral,T(3)(1)]))\n",
    "leg=COLOR(BROWN)(tile(0.1,1,1))\n",
    "leg_list=STRUCT(NN(8)([leg,T(3)(1)]))\n",
    "\n",
    "up=tile(0.000001,0.000001,0.0000001)\n",
    "\n",
    "\n",
    "library_central=RIGHT([RIGHT([leg_list,STRUCT([up,T(3)(1)(shelf__center_list_up)])]),leg_list])\n",
    "\n",
    "library_lateral=RIGHT([RIGHT([leg_list,STRUCT([up,T(3)(1)(shelf__lateral_list_up)])]),leg_list])\n",
    "\n",
    "\n",
    "\n",
    "library2=RIGHT([RIGHT([library_lateral,library_central]),library_lateral])\n",
    "\n",
    "VIEW(library2)"
   ]
  },
  {
   "cell_type": "markdown",
   "metadata": {},
   "source": [
    "![Cattura.PNG](image\\Cattura2.PNG)"
   ]
  },
  {
   "cell_type": "code",
   "execution_count": 3,
   "metadata": {},
   "outputs": [
    {
     "ename": "SyntaxError",
     "evalue": "invalid syntax (<ipython-input-3-7ddd9c9e681f>, line 13)",
     "output_type": "error",
     "traceback": [
      "\u001b[1;36m  File \u001b[1;32m\"<ipython-input-3-7ddd9c9e681f>\"\u001b[1;36m, line \u001b[1;32m13\u001b[0m\n\u001b[1;33m    doors=XOR([door,door2])\u001b[0m\n\u001b[1;37m        ^\u001b[0m\n\u001b[1;31mSyntaxError\u001b[0m\u001b[1;31m:\u001b[0m invalid syntax\n"
     ]
    }
   ],
   "source": [
    "from pyplasm import *\n",
    "from larlib import *\n",
    "def tile(x,y,z):\n",
    "    return PROD([PROD([QUOTE([x]),QUOTE([y])]),QUOTE([z])])\n",
    "\n",
    "color=GRAY\n",
    "shelf=COLOR(color)(STRUCT([tile(1,1,0.05),tile(1,0.05,1),tile(0.01,1,1),T(1)(0.99)(tile(0.01,1,1)),T(3)(0.95)(tile(1,1,0.05))]))\n",
    "shelf_center=COLOR(color)(S(1)(4)(shelf))\n",
    "shelf__center_list_up=STRUCT(NN(7)([shelf_center,T(3)(1)]))\n",
    "\n",
    "door=COLOR(color)(tile(4,0.1,5))\n",
    "door2=COLOR(RED)(T([1,3])([1,1.25])(tile(2,0.1,2.5))\n",
    "doors=XOR([door,door2])\n",
    "\n",
    "leg=COLOR(color)(tile(0.01,1,1))\n",
    "leg_list=STRUCT(NN(8)([leg,T(3)(1)]))\n",
    "\n",
    "up=tile(0.000001,0.000001,0.0000001)\n",
    "\n",
    "\n",
    "drawer=COLOR(color)(STRUCT([tile(1,1,0.05),tile(1,0.05,1),tile(0.01,1,1),T(1)(0.99)(tile(0.05,1,1)),\n",
    "                            T(2)(0.99)(tile(1,0.01,1)),T(3)(0.95)(tile(1,1,0.05))]))\n",
    "\n",
    "sphere=COLOR(WHITE)(SPHERE(0.2)([24,32]))\n",
    "shelf_right=COLOR(color)(S(1)(4)(drawer))\n",
    "shelf_left=COLOR(color)(S(1)(4)(drawer))\n",
    "\n",
    "shelf__right_list_up=STRUCT(NN(2)([shelf_right,T(3)(1)]))\n",
    "shelf__left_list_up=STRUCT(NN(7)([shelf_left,T(3)(1)]))\n",
    "\n",
    "\n",
    "library_central=RIGHT([RIGHT([leg_list,STRUCT([up,T(3)(1)(shelf__center_list_up)])]),leg_list])\n",
    "library_right=RIGHT([RIGHT([leg_list,STRUCT([up,T(3)(1)(shelf__right_list_up)])]),leg_list])\n",
    "library_left=RIGHT([RIGHT([leg_list,STRUCT([up,T(3)(1)(shelf__left_list_up)])]),leg_list])\n",
    "\n",
    "\n",
    "\n",
    "library2=RIGHT([RIGHT([library_right,library_central]),library_left])\n",
    "lib=STRUCT([library2,T([1,2,3])([2,1.1,1.5])(sphere),T([1,2,3])([2,1.1,2.5])(sphere)])\n",
    "VIEW(door_window)"
   ]
  },
  {
   "cell_type": "code",
   "execution_count": null,
   "metadata": {
    "collapsed": true
   },
   "outputs": [],
   "source": []
  }
 ],
 "metadata": {
  "kernelspec": {
   "display_name": "Python 2",
   "language": "python",
   "name": "python2"
  },
  "language_info": {
   "codemirror_mode": {
    "name": "ipython",
    "version": 2
   },
   "file_extension": ".py",
   "mimetype": "text/x-python",
   "name": "python",
   "nbconvert_exporter": "python",
   "pygments_lexer": "ipython2",
   "version": "2.7.13"
  }
 },
 "nbformat": 4,
 "nbformat_minor": 2
}
